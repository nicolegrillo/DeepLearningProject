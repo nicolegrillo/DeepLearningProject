{
  "cells": [
    {
      "cell_type": "markdown",
      "source": [
        "# Transfer Learning for Flower Classification\n",
        "\n",
        "We use transfer learning applied to MobileNetV2 (155 layers deep). After several attempts we found that the best way to obtain a finer result is by unfreezing the top 15 layers and finetuned them. It could be possible to extend to further finetuning but the RAM does not support it here."
      ],
      "metadata": {
        "id": "uDOHsAFVZAL1"
      }
    },
    {
      "cell_type": "code",
      "execution_count": 1,
      "metadata": {
        "id": "-dOcC0erZ0Me"
      },
      "outputs": [],
      "source": [
        "from sklearn.metrics import confusion_matrix, f1_score\n",
        "import seaborn as sns\n",
        "import tensorflow as tf\n",
        "from sklearn.model_selection import train_test_split\n",
        "from keras.preprocessing.image import ImageDataGenerator\n",
        "from tensorflow.keras.layers.experimental import preprocessing\n",
        "from tensorflow import keras\n",
        "from matplotlib import pyplot as plt\n",
        "import zipfile\n",
        "from shutil import copyfile\n",
        "from time import time\n",
        "from keras.utils import to_categorical\n",
        "from keras.callbacks import EarlyStopping, ReduceLROnPlateau\n",
        "import numpy as np\n",
        "import random as python_random\n",
        "from tensorflow.keras.applications import VGG16\n",
        "from keras import layers, models\n",
        "import os\n",
        "from tensorflow.keras.preprocessing.image import load_img, img_to_array\n",
        "from google.colab import drive\n",
        "import tarfile\n",
        "import os\n",
        "from PIL import Image\n",
        "import matplotlib.pyplot as plt\n",
        "import numpy as np\n",
        "from keras.models import Sequential\n",
        "from keras.layers import Conv2D, MaxPooling2D, Flatten, Dense, Dropout, GlobalAveragePooling2D\n",
        "from keras.optimizers import Adam\n",
        "import seaborn as sns\n",
        "from google.colab import files\n",
        "import matplotlib.pyplot as plt\n",
        "import seaborn as sns\n",
        "import pandas as pd\n",
        "\n",
        "import tensorflow as tf\n",
        "import tensorflow_hub as hub\n",
        "from tensorflow.keras import layers\n",
        "from tensorflow.keras.optimizers import Adam\n",
        "from tensorflow.keras.preprocessing.image import ImageDataGenerator"
      ]
    },
    {
      "cell_type": "markdown",
      "source": [
        "# Data fetching\n",
        "\n",
        "Import the data and apply normalization/augmentation/division in train, validation and test set."
      ],
      "metadata": {
        "id": "-JAFZjANmxFK"
      }
    },
    {
      "cell_type": "code",
      "execution_count": 2,
      "metadata": {
        "id": "aN2CfTorZ1GK",
        "colab": {
          "base_uri": "https://localhost:8080/"
        },
        "outputId": "18a03843-62d3-4146-e80b-aa50d194d37a"
      },
      "outputs": [
        {
          "output_type": "stream",
          "name": "stdout",
          "text": [
            "Drive already mounted at /content/gdrive; to attempt to forcibly remount, call drive.mount(\"/content/gdrive\", force_remount=True).\n"
          ]
        }
      ],
      "source": [
        "drive.mount('/content/gdrive')\n",
        "# Path to your .tgz file\n",
        "file_path = 'gdrive/My Drive/Colab Notebooks/flower_photos.tgz'\n",
        "\n",
        "# Extract the contents\n",
        "with tarfile.open(file_path, 'r:gz') as tar:\n",
        "    tar.extractall('/content/')"
      ]
    },
    {
      "cell_type": "code",
      "execution_count": 3,
      "metadata": {
        "id": "PEaAb8uBaGo8",
        "colab": {
          "base_uri": "https://localhost:8080/"
        },
        "outputId": "db92e74e-74a3-4ebf-dae5-f366c3247841"
      },
      "outputs": [
        {
          "output_type": "stream",
          "name": "stdout",
          "text": [
            "Class names: ['tulips', 'daisy', 'roses', 'dandelion', 'sunflowers']\n"
          ]
        }
      ],
      "source": [
        "batch_size = 32\n",
        "img_height = 224\n",
        "img_width = 224\n",
        "\n",
        "def load_data(folder_path):\n",
        "    X = []\n",
        "    y = []\n",
        "    class_names = [d for d in os.listdir(folder_path) if os.path.isdir(os.path.join(folder_path, d))]\n",
        "    print(\"Class names:\", class_names)\n",
        "\n",
        "    for i, class_name in enumerate(class_names):\n",
        "        class_path = os.path.join(folder_path, class_name)\n",
        "        for image_name in os.listdir(class_path):\n",
        "            image_path = os.path.join(class_path, image_name)\n",
        "            try:\n",
        "                image = load_img(image_path, target_size=(224, 224)) # change image size from original to make them of same shape\n",
        "                image = img_to_array(image)\n",
        "                X.append(image)\n",
        "                y.append(i)\n",
        "            except Exception as e:\n",
        "                print(f\"Error loading image {image_path}: {e}\")\n",
        "    X = np.array(X)\n",
        "    y = np.array(y)\n",
        "    return X, y, class_names\n",
        "\n",
        "# Load the data\n",
        "X, y, class_names = load_data('flower_photos')"
      ]
    },
    {
      "cell_type": "code",
      "execution_count": 4,
      "metadata": {
        "id": "x66orgb9aLGC"
      },
      "outputs": [],
      "source": [
        "def split_data(X, y, train_size, val_size, test_size, random_state=None):\n",
        "\n",
        "    if train_size + val_size + test_size != 1.0:\n",
        "        raise ValueError(\"The sum of train_size, val_size, and test_size must be 1.0\")\n",
        "\n",
        "    X_train, X_temp, y_train, y_temp = train_test_split(X, y, test_size=(val_size + test_size), random_state=random_state)\n",
        "    remaining_proportion = val_size / (val_size + test_size)\n",
        "    X_val, X_test, y_val, y_test = train_test_split(X_temp, y_temp, test_size=(1 - remaining_proportion), random_state=random_state)\n",
        "\n",
        "    return X_train, X_val, X_test, y_train, y_val, y_test"
      ]
    },
    {
      "cell_type": "code",
      "execution_count": 5,
      "metadata": {
        "id": "p9dNuRTtab8B"
      },
      "outputs": [],
      "source": [
        "# Normalize data first:\n",
        "\n",
        "X_normalized = X/255."
      ]
    },
    {
      "cell_type": "code",
      "execution_count": 6,
      "metadata": {
        "id": "YeEFmOvjadW5"
      },
      "outputs": [],
      "source": [
        "X_train, X_val, X_test, y_train, y_val, y_test = split_data(X_normalized, y,\n",
        "                                                            train_size=0.8,\n",
        "                                                            val_size=0.1,\n",
        "                                                            test_size=0.1,\n",
        "                                                            random_state=42)"
      ]
    },
    {
      "cell_type": "code",
      "execution_count": 7,
      "metadata": {
        "id": "0MZZwzHLafFR"
      },
      "outputs": [],
      "source": [
        "# Delete unused data, to prevent RAM from going boom\n",
        "\n",
        "del(X)\n",
        "del(X_normalized)"
      ]
    },
    {
      "cell_type": "code",
      "execution_count": 8,
      "metadata": {
        "id": "yybsD98ArbcI"
      },
      "outputs": [],
      "source": [
        "# Sequence of modules to place before the actual NN\n",
        "\n",
        "data_augmentation = keras.Sequential([\n",
        "    keras.layers.experimental.preprocessing.RandomFlip('horizontal',input_shape = (224,224,3)),\n",
        "    keras.layers.experimental.preprocessing.RandomRotation(0.2),\n",
        "    keras.layers.experimental.preprocessing.RandomZoom(0.2)\n",
        "])"
      ]
    },
    {
      "cell_type": "code",
      "source": [
        "# Encode classes in valid format\n",
        "\n",
        "y_train_encoded = to_categorical(y_train, 5)\n",
        "y_val_encoded = to_categorical(y_val, 5)"
      ],
      "metadata": {
        "id": "oPdAHeS_ExPM"
      },
      "execution_count": 9,
      "outputs": []
    },
    {
      "cell_type": "markdown",
      "source": [
        "# Train the NN with frozen layers\n",
        "\n",
        "We do this for reference, to see if there is an improvement and to set where to start with finetuning (stop epoch):"
      ],
      "metadata": {
        "id": "UlzfAcm9m8CT"
      }
    },
    {
      "cell_type": "code",
      "execution_count": 10,
      "metadata": {
        "id": "b4h1HuJdagWI"
      },
      "outputs": [],
      "source": [
        "# Load and freeze pretrained model\n",
        "pretrained_layer = keras.Sequential([\n",
        "    hub.KerasLayer(\"https://tfhub.dev/google/tf2-preview/mobilenet_v2/feature_vector/4\", input_shape=(224, 224, 3))\n",
        "])\n",
        "pretrained_layer.trainable = False\n",
        "\n",
        "# Add custom layers\n",
        "pretrained_model_aug = keras.Sequential([\n",
        "    data_augmentation,\n",
        "    pretrained_layer,\n",
        "    layers.Dropout(0.3),\n",
        "    layers.Dense(5, activation='softmax')\n",
        "])\n",
        "\n",
        "# Compile the model\n",
        "pretrained_model_aug.compile(\n",
        "    optimizer=Adam(learning_rate=1e-3),\n",
        "    loss='categorical_crossentropy',\n",
        "    metrics=['accuracy']\n",
        ")\n",
        "\n",
        "early_stopping = EarlyStopping(monitor='val_loss', patience=5, restore_best_weights=True)"
      ]
    },
    {
      "cell_type": "code",
      "execution_count": 11,
      "metadata": {
        "colab": {
          "base_uri": "https://localhost:8080/"
        },
        "id": "qxjsFxwNalWu",
        "outputId": "5a822e49-9ed4-4096-be1c-2ae3cbfd92d8"
      },
      "outputs": [
        {
          "output_type": "stream",
          "name": "stdout",
          "text": [
            "Epoch 1/30\n",
            "92/92 [==============================] - 16s 79ms/step - loss: 0.9463 - accuracy: 0.6451 - val_loss: 0.5575 - val_accuracy: 0.7902\n",
            "Epoch 2/30\n",
            "92/92 [==============================] - 5s 55ms/step - loss: 0.5459 - accuracy: 0.8031 - val_loss: 0.4586 - val_accuracy: 0.8474\n",
            "Epoch 3/30\n",
            "92/92 [==============================] - 5s 51ms/step - loss: 0.4617 - accuracy: 0.8386 - val_loss: 0.4070 - val_accuracy: 0.8529\n",
            "Epoch 4/30\n",
            "92/92 [==============================] - 5s 52ms/step - loss: 0.4125 - accuracy: 0.8512 - val_loss: 0.4025 - val_accuracy: 0.8529\n",
            "Epoch 5/30\n",
            "92/92 [==============================] - 5s 54ms/step - loss: 0.4069 - accuracy: 0.8573 - val_loss: 0.3770 - val_accuracy: 0.8665\n",
            "Epoch 6/30\n",
            "92/92 [==============================] - 5s 49ms/step - loss: 0.3761 - accuracy: 0.8651 - val_loss: 0.3661 - val_accuracy: 0.8638\n",
            "Epoch 7/30\n",
            "92/92 [==============================] - 5s 52ms/step - loss: 0.3641 - accuracy: 0.8706 - val_loss: 0.3557 - val_accuracy: 0.8638\n",
            "Epoch 8/30\n",
            "92/92 [==============================] - 5s 53ms/step - loss: 0.3578 - accuracy: 0.8719 - val_loss: 0.3628 - val_accuracy: 0.8529\n",
            "Epoch 9/30\n",
            "92/92 [==============================] - 5s 51ms/step - loss: 0.3374 - accuracy: 0.8818 - val_loss: 0.3468 - val_accuracy: 0.8556\n",
            "Epoch 10/30\n",
            "92/92 [==============================] - 5s 50ms/step - loss: 0.3249 - accuracy: 0.8804 - val_loss: 0.3801 - val_accuracy: 0.8610\n",
            "Epoch 11/30\n",
            "92/92 [==============================] - 5s 52ms/step - loss: 0.3266 - accuracy: 0.8828 - val_loss: 0.3511 - val_accuracy: 0.8556\n",
            "Epoch 12/30\n",
            "92/92 [==============================] - 4s 48ms/step - loss: 0.3228 - accuracy: 0.8862 - val_loss: 0.3473 - val_accuracy: 0.8638\n",
            "Epoch 13/30\n",
            "92/92 [==============================] - 5s 55ms/step - loss: 0.3233 - accuracy: 0.8856 - val_loss: 0.3305 - val_accuracy: 0.8774\n",
            "Epoch 14/30\n",
            "92/92 [==============================] - 5s 52ms/step - loss: 0.3065 - accuracy: 0.8893 - val_loss: 0.3364 - val_accuracy: 0.8665\n",
            "Epoch 15/30\n",
            "92/92 [==============================] - 4s 49ms/step - loss: 0.2975 - accuracy: 0.8954 - val_loss: 0.3141 - val_accuracy: 0.8828\n",
            "Epoch 16/30\n",
            "92/92 [==============================] - 5s 50ms/step - loss: 0.2968 - accuracy: 0.8924 - val_loss: 0.3308 - val_accuracy: 0.8747\n",
            "Epoch 17/30\n",
            "92/92 [==============================] - 5s 50ms/step - loss: 0.3001 - accuracy: 0.8913 - val_loss: 0.3163 - val_accuracy: 0.8747\n",
            "Epoch 18/30\n",
            "92/92 [==============================] - 5s 50ms/step - loss: 0.2961 - accuracy: 0.8937 - val_loss: 0.3590 - val_accuracy: 0.8801\n",
            "Epoch 19/30\n",
            "92/92 [==============================] - 5s 51ms/step - loss: 0.3012 - accuracy: 0.8920 - val_loss: 0.3281 - val_accuracy: 0.8747\n",
            "Epoch 20/30\n",
            "92/92 [==============================] - 5s 51ms/step - loss: 0.2774 - accuracy: 0.9005 - val_loss: 0.3115 - val_accuracy: 0.8883\n",
            "Epoch 21/30\n",
            "92/92 [==============================] - 4s 48ms/step - loss: 0.2884 - accuracy: 0.8978 - val_loss: 0.3724 - val_accuracy: 0.8747\n",
            "Epoch 22/30\n",
            "92/92 [==============================] - 5s 50ms/step - loss: 0.2709 - accuracy: 0.8985 - val_loss: 0.3214 - val_accuracy: 0.8801\n",
            "Epoch 23/30\n",
            "92/92 [==============================] - 5s 52ms/step - loss: 0.2757 - accuracy: 0.8937 - val_loss: 0.3307 - val_accuracy: 0.8856\n",
            "Epoch 24/30\n",
            "92/92 [==============================] - 5s 50ms/step - loss: 0.2724 - accuracy: 0.9033 - val_loss: 0.3435 - val_accuracy: 0.8801\n",
            "Epoch 25/30\n",
            "92/92 [==============================] - 5s 55ms/step - loss: 0.2854 - accuracy: 0.8971 - val_loss: 0.3338 - val_accuracy: 0.8774\n"
          ]
        }
      ],
      "source": [
        "# Fit model with callbacks\n",
        "history = pretrained_model_aug.fit(\n",
        "    X_train,\n",
        "    y_train_encoded,\n",
        "    validation_data=(X_val, y_val_encoded),\n",
        "    epochs=30,\n",
        "    callbacks=[early_stopping]\n",
        ")"
      ]
    },
    {
      "cell_type": "markdown",
      "source": [
        "## Results"
      ],
      "metadata": {
        "id": "AJWootYbnICl"
      }
    },
    {
      "cell_type": "code",
      "execution_count": 12,
      "metadata": {
        "id": "bU-Cqi_3nlVS"
      },
      "outputs": [],
      "source": [
        "# Load history dict\n",
        "history_dict = history.history\n",
        "\n",
        "# Create a DataFrame from the history dictionary\n",
        "history_df = pd.DataFrame(history_dict)\n",
        "\n",
        "# Add an epoch column\n",
        "history_df['epoch'] = history_df.index + 1"
      ]
    },
    {
      "cell_type": "code",
      "source": [
        "y_pred = pretrained_model_aug.predict(X_test)\n",
        "\n",
        "# Convert probabilities to class labels\n",
        "y_pred_classes = np.argmax(y_pred, axis=1)"
      ],
      "metadata": {
        "colab": {
          "base_uri": "https://localhost:8080/"
        },
        "id": "j9U_-FggAEoJ",
        "outputId": "5792da0a-14fa-47b4-c91d-89a259271ede"
      },
      "execution_count": 13,
      "outputs": [
        {
          "output_type": "stream",
          "name": "stdout",
          "text": [
            "12/12 [==============================] - 1s 41ms/step\n"
          ]
        }
      ]
    },
    {
      "cell_type": "code",
      "source": [
        "# Compute F1 scores for each class\n",
        "f1_scores = f1_score(y_test, y_pred_classes, average=None)\n",
        "mean_f1_score = np.mean(f1_scores)\n",
        "\n",
        "# Print F1 scores\n",
        "print(\"F1 Scores for each class:\")\n",
        "for i, score in enumerate(f1_scores):\n",
        "    print(f\"Class {i}: {score:.2f}\")\n",
        "\n",
        "# Print mean F1 score\n",
        "print(f\"Mean F1 Score: {mean_f1_score:.2f}\")"
      ],
      "metadata": {
        "colab": {
          "base_uri": "https://localhost:8080/"
        },
        "id": "Q_XM29XcAE0Q",
        "outputId": "f852ca4d-5238-4011-dbb4-42455f520ad9"
      },
      "execution_count": 26,
      "outputs": [
        {
          "output_type": "stream",
          "name": "stdout",
          "text": [
            "F1 Scores for each class:\n",
            "Class 0: 0.86\n",
            "Class 1: 0.90\n",
            "Class 2: 0.85\n",
            "Class 3: 0.94\n",
            "Class 4: 0.89\n",
            "Mean F1 Score: 0.89\n"
          ]
        }
      ]
    },
    {
      "cell_type": "code",
      "execution_count": 15,
      "metadata": {
        "colab": {
          "base_uri": "https://localhost:8080/"
        },
        "id": "LHkdzvrCozjx",
        "outputId": "5f600b04-63c7-4436-a072-e82967e17250"
      },
      "outputs": [
        {
          "output_type": "stream",
          "name": "stdout",
          "text": [
            "Drive already mounted at /content/gdrive; to attempt to forcibly remount, call drive.mount(\"/content/gdrive\", force_remount=True).\n"
          ]
        }
      ],
      "source": [
        "# Save the model to Google Drive\n",
        "drive.mount('/content/gdrive')\n",
        "\n",
        "model_save_path = 'gdrive/My Drive/Colab Notebooks/flower_transfer_learning.keras'\n",
        "pretrained_model_aug.save(model_save_path)"
      ]
    },
    {
      "cell_type": "markdown",
      "source": [
        "# Train the NN unfreezing top layers\n",
        "\n",
        "We unfreeze the top layers of 15. Because the network is 155 layers deep, we set the $\\texttt{ $\\mathrm{trainable}$ = True}$ from layer n°155 to layer n°140."
      ],
      "metadata": {
        "id": "fbPB2m1xAQRT"
      }
    },
    {
      "cell_type": "code",
      "execution_count": 16,
      "metadata": {
        "id": "ylNF_yMLyndy"
      },
      "outputs": [],
      "source": [
        "pretrained_layer.trainable = True\n",
        "\n",
        "# Fine-tune from this layer onwards\n",
        "fine_tuning = 140\n",
        "\n",
        "# Freeze all the layers before fine_tuned_ind\n",
        "for layer in pretrained_layer.layers[:fine_tuning]:\n",
        "    layer.trainable =  False"
      ]
    },
    {
      "cell_type": "code",
      "execution_count": 17,
      "metadata": {
        "id": "fdojEFK8pBCB",
        "colab": {
          "base_uri": "https://localhost:8080/"
        },
        "outputId": "ac518510-c56d-42cc-814c-2296f0e73d7b"
      },
      "outputs": [
        {
          "output_type": "stream",
          "name": "stdout",
          "text": [
            "Epoch 1/100\n",
            "92/92 [==============================] - 8s 64ms/step - loss: 0.2634 - accuracy: 0.9029 - val_loss: 0.3172 - val_accuracy: 0.8937 - lr: 1.0000e-04\n",
            "Epoch 2/100\n",
            "92/92 [==============================] - 4s 48ms/step - loss: 0.2647 - accuracy: 0.9036 - val_loss: 0.3242 - val_accuracy: 0.8883 - lr: 1.0000e-04\n",
            "Epoch 3/100\n",
            "92/92 [==============================] - 5s 55ms/step - loss: 0.2729 - accuracy: 0.9063 - val_loss: 0.3211 - val_accuracy: 0.8828 - lr: 1.0000e-04\n",
            "Epoch 4/100\n",
            "92/92 [==============================] - 4s 48ms/step - loss: 0.2778 - accuracy: 0.9022 - val_loss: 0.3212 - val_accuracy: 0.8965 - lr: 1.0000e-04\n",
            "Epoch 5/100\n",
            "92/92 [==============================] - 5s 49ms/step - loss: 0.2745 - accuracy: 0.9060 - val_loss: 0.3242 - val_accuracy: 0.8910 - lr: 1.0000e-04\n",
            "Epoch 6/100\n",
            "92/92 [==============================] - 5s 54ms/step - loss: 0.2601 - accuracy: 0.9033 - val_loss: 0.3241 - val_accuracy: 0.8910 - lr: 1.0000e-04\n"
          ]
        }
      ],
      "source": [
        "# set a learning rate annealer\n",
        "reduce_lr = ReduceLROnPlateau(monitor='val_accuracy',\n",
        "                                            patience=3,\n",
        "                                            verbose=1,\n",
        "                                            factor=0.7,\n",
        "                                            min_lr=0.00001)\n",
        "\n",
        "# Recompile the model with a lower learning rate for fine-tuning\n",
        "pretrained_model_aug.compile(\n",
        "    optimizer=Adam(learning_rate=1e-4),  # 1/100 original LR\n",
        "    loss='categorical_crossentropy',\n",
        "    metrics=['accuracy']\n",
        ")\n",
        "\n",
        "# Continue training (fine-tuning)\n",
        "history_finetune = pretrained_model_aug.fit(\n",
        "    X_train,\n",
        "    y_train_encoded,\n",
        "    validation_data=(X_val, y_val_encoded),\n",
        "    epochs=100,\n",
        "    callbacks=[early_stopping, reduce_lr]\n",
        ")"
      ]
    },
    {
      "cell_type": "markdown",
      "source": [
        "## Finetuning results"
      ],
      "metadata": {
        "id": "APHnNpRbnaHz"
      }
    },
    {
      "cell_type": "code",
      "execution_count": 18,
      "metadata": {
        "id": "IHjiymBmp6g1"
      },
      "outputs": [],
      "source": [
        "# Assuming you have the history dictionary loaded\n",
        "history_dict_fine = history_finetune.history\n",
        "\n",
        "# Create a DataFrame from the history dictionary\n",
        "history_df_fine = pd.DataFrame(history_dict_fine)\n",
        "\n",
        "# Add an epoch column\n",
        "history_df_fine['epoch'] = history_df_fine.index + 1"
      ]
    },
    {
      "cell_type": "code",
      "execution_count": 19,
      "metadata": {
        "id": "P7Nhtpa9q9Cb",
        "colab": {
          "base_uri": "https://localhost:8080/"
        },
        "outputId": "8161de00-877b-413a-f6e8-35fc612cf75d"
      },
      "outputs": [
        {
          "output_type": "stream",
          "name": "stdout",
          "text": [
            "12/12 [==============================] - 1s 36ms/step\n"
          ]
        }
      ],
      "source": [
        "y_pred1 = pretrained_model_aug.predict(X_test)\n",
        "\n",
        "# Convert probabilities to class labels\n",
        "y_pred_classes1 = np.argmax(y_pred1, axis=1)"
      ]
    },
    {
      "cell_type": "code",
      "source": [
        "# Compute F1 scores for each class\n",
        "f1_scores1 = f1_score(y_test, y_pred_classes1, average=None)\n",
        "mean_f1_score1 = np.mean(f1_scores1)\n",
        "\n",
        "# Print F1 scores\n",
        "print(\"F1 Scores for each class:\")\n",
        "for i, score in enumerate(f1_scores1):\n",
        "    print(f\"Class {i}: {score:.2f}\")\n",
        "\n",
        "# Print mean F1 score\n",
        "print(f\"Mean F1 Score: {mean_f1_score1:.2f}\")"
      ],
      "metadata": {
        "colab": {
          "base_uri": "https://localhost:8080/"
        },
        "id": "3QK5npb-ASIW",
        "outputId": "66c88814-7385-4432-c5d1-bdce84ccdf92"
      },
      "execution_count": 25,
      "outputs": [
        {
          "output_type": "stream",
          "name": "stdout",
          "text": [
            "F1 Scores for each class:\n",
            "Class 0: 0.90\n",
            "Class 1: 0.91\n",
            "Class 2: 0.91\n",
            "Class 3: 0.94\n",
            "Class 4: 0.91\n",
            "Mean F1 Score: 0.92\n"
          ]
        }
      ]
    },
    {
      "cell_type": "markdown",
      "source": [
        "# Final plot of results\n",
        "\n",
        "To see the results better we finally make a plot of the result from finetuning: the left part of the graph shows the training without finetunig, the right part instead the finetuned results."
      ],
      "metadata": {
        "id": "yAeMbLiindKa"
      }
    },
    {
      "cell_type": "code",
      "source": [
        "epochs_0 = 25\n",
        "\n",
        "def plot_history_fined(history, history_finetune, initial_epochs=epochs_0, loss_max=1):\n",
        "    \"\"\"\n",
        "    Check loss and accuracy evolution after fine tuning\n",
        "    \"\"\"\n",
        "\n",
        "    acc = history.history['accuracy'][:epochs_0]\n",
        "    acc += history_finetune.history['accuracy']\n",
        "    val_acc = history.history['val_accuracy'][:epochs_0]\n",
        "    val_acc += history_finetune.history['val_accuracy']\n",
        "\n",
        "    loss = history.history['loss'][:epochs_0]\n",
        "    loss += history_finetune.history['loss']\n",
        "    val_loss = history.history['val_loss'][:epochs_0]\n",
        "    val_loss += history_finetune.history['val_loss']\n",
        "\n",
        "\n",
        "    fig, (ax1, ax2) = plt.subplots(1,2,figsize=(14, 6))\n",
        "    ax1.plot(acc, label='Training', marker='o', ls='-')\n",
        "    ax1.plot(val_acc, label='Validation', marker='o', ls='-')\n",
        "    ax1.plot([initial_epochs-1,initial_epochs-1],\n",
        "              plt.ylim(), label='fine-tuning', ls='--')\n",
        "    ax1.legend(loc='lower right')\n",
        "    ax1.set(ylabel='Accuracy', xlabel='epochs', title='Training - Validation Accuracy',\n",
        "            ylim=([0.6,1.005]))\n",
        "    ax1.grid(True, alpha=0.4)\n",
        "\n",
        "    ax2.plot(loss, label='Training', marker='o', ls='-')\n",
        "    ax2.plot(val_loss, label='Validation', marker='o', ls='-')\n",
        "    ax2.plot([initial_epochs-1,initial_epochs-1],\n",
        "             [0,1] , label='fine-tuning', ls='--')\n",
        "    ax2.legend(loc='upper right')\n",
        "    ax2.set(ylabel='Loss (cross entropy)', xlabel='epochs',\n",
        "           title='Training - Validation Loss', ylim=([0, loss_max]))\n",
        "    ax2.grid(True, alpha=0.4)\n",
        "\n",
        "    plt.savefig(\"finetuned_result.png\")\n",
        "    files.download(\"finetuned_result.png\")\n",
        "    plt.show()"
      ],
      "metadata": {
        "id": "dM-RsBKrn2rs"
      },
      "execution_count": 34,
      "outputs": []
    },
    {
      "cell_type": "code",
      "source": [
        "plot_history_fined(history, history_finetune)"
      ],
      "metadata": {
        "colab": {
          "base_uri": "https://localhost:8080/",
          "height": 564
        },
        "id": "yOynXBWipoU6",
        "outputId": "9ec02050-9ac6-4945-f0fc-eb74547bd6f3"
      },
      "execution_count": 35,
      "outputs": [
        {
          "output_type": "display_data",
          "data": {
            "text/plain": [
              "<IPython.core.display.Javascript object>"
            ],
            "application/javascript": [
              "\n",
              "    async function download(id, filename, size) {\n",
              "      if (!google.colab.kernel.accessAllowed) {\n",
              "        return;\n",
              "      }\n",
              "      const div = document.createElement('div');\n",
              "      const label = document.createElement('label');\n",
              "      label.textContent = `Downloading \"${filename}\": `;\n",
              "      div.appendChild(label);\n",
              "      const progress = document.createElement('progress');\n",
              "      progress.max = size;\n",
              "      div.appendChild(progress);\n",
              "      document.body.appendChild(div);\n",
              "\n",
              "      const buffers = [];\n",
              "      let downloaded = 0;\n",
              "\n",
              "      const channel = await google.colab.kernel.comms.open(id);\n",
              "      // Send a message to notify the kernel that we're ready.\n",
              "      channel.send({})\n",
              "\n",
              "      for await (const message of channel.messages) {\n",
              "        // Send a message to notify the kernel that we're ready.\n",
              "        channel.send({})\n",
              "        if (message.buffers) {\n",
              "          for (const buffer of message.buffers) {\n",
              "            buffers.push(buffer);\n",
              "            downloaded += buffer.byteLength;\n",
              "            progress.value = downloaded;\n",
              "          }\n",
              "        }\n",
              "      }\n",
              "      const blob = new Blob(buffers, {type: 'application/binary'});\n",
              "      const a = document.createElement('a');\n",
              "      a.href = window.URL.createObjectURL(blob);\n",
              "      a.download = filename;\n",
              "      div.appendChild(a);\n",
              "      a.click();\n",
              "      div.remove();\n",
              "    }\n",
              "  "
            ]
          },
          "metadata": {}
        },
        {
          "output_type": "display_data",
          "data": {
            "text/plain": [
              "<IPython.core.display.Javascript object>"
            ],
            "application/javascript": [
              "download(\"download_b4acb993-81f4-440a-8928-8ffb5e59a12f\", \"finetuned_result.png\", 74387)"
            ]
          },
          "metadata": {}
        },
        {
          "output_type": "display_data",
          "data": {
            "text/plain": [
              "<Figure size 1400x600 with 2 Axes>"
            ],
            "image/png": "[encoded data removed]"
          },
          "metadata": {}
        }
      ]
    },
    {
      "cell_type": "code",
      "source": [],
      "metadata": {
        "id": "8osBi2z6q5QB"
      },
      "execution_count": 33,
      "outputs": []
    },
    {
      "cell_type": "code",
      "source": [],
      "metadata": {
        "id": "P9P1k5Pwud3N"
      },
      "execution_count": null,
      "outputs": []
    }
  ],
  "metadata": {
    "colab": {
      "provenance": []
    },
    "kernelspec": {
      "display_name": "Python 3",
      "name": "python3"
    },
    "language_info": {
      "name": "python"
    }
  },
  "nbformat": 4,
  "nbformat_minor": 0
}