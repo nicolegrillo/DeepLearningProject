{
  "cells": [
    {
      "cell_type": "markdown",
      "metadata": {
        "id": "uDOHsAFVZAL1"
      },
      "source": [
        "# Transfer Learning for Flower Classification\n",
        "\n",
        "We use transfer learning applied to MobileNetV2, start by unfreezing 5 layers and then try and do more."
      ]
    },
    {
      "cell_type": "code",
      "source": [
        "import tarfile\n",
        "import os\n",
        "\n",
        "import matplotlib.pyplot as plt\n",
        "import numpy as np\n",
        "import seaborn as sns\n",
        "import pandas as pd\n",
        "import tensorflow as tf\n",
        "import tensorflow_hub as hub\n",
        "\n",
        "from google.colab import drive\n",
        "from google.colab import files\n",
        "from PIL import Image\n",
        "\n",
        "from sklearn.model_selection import train_test_split\n",
        "from sklearn.metrics import accuracy_score, confusion_matrix, f1_score\n",
        "\n",
        "from keras.preprocessing.image import ImageDataGenerator\n",
        "from keras.preprocessing.image import load_img, img_to_array\n",
        "from keras.models import Sequential\n",
        "from keras.layers import Conv2D, MaxPooling2D, Flatten, Dense, Dropout, GlobalAveragePooling2D\n",
        "from keras.optimizers import Adam\n",
        "from keras.utils import to_categorical\n",
        "from keras.callbacks import EarlyStopping, ReduceLROnPlateau\n",
        "from keras import layers, models\n",
        "\n",
        "from tensorflow.keras.layers.experimental import preprocessing\n",
        "from tensorflow import keras"
      ],
      "metadata": {
        "id": "n53Ehh5r5Ful"
      },
      "execution_count": 1,
      "outputs": []
    },
    {
      "cell_type": "code",
      "source": [
        "# Set seeds for reproducibility\n",
        "keras.utils.set_random_seed(1)"
      ],
      "metadata": {
        "id": "uAwv1c9hk-x3"
      },
      "execution_count": 2,
      "outputs": []
    },
    {
      "cell_type": "markdown",
      "metadata": {
        "id": "-JAFZjANmxFK"
      },
      "source": [
        "# Data fetching\n",
        "\n",
        "Import the data and apply normalization/augmentation/division in train, validation and test set."
      ]
    },
    {
      "cell_type": "code",
      "execution_count": 3,
      "metadata": {
        "colab": {
          "base_uri": "https://localhost:8080/"
        },
        "id": "aN2CfTorZ1GK",
        "outputId": "d2384230-4d9b-4e55-acdf-f7773fe40269"
      },
      "outputs": [
        {
          "output_type": "stream",
          "name": "stdout",
          "text": [
            "Mounted at /content/gdrive\n"
          ]
        }
      ],
      "source": [
        "drive.mount('/content/gdrive')\n",
        "# Path to your .tgz file\n",
        "file_path = 'gdrive/My Drive/Colab Notebooks/flower_photos.tgz'\n",
        "\n",
        "# Extract the contents\n",
        "with tarfile.open(file_path, 'r:gz') as tar:\n",
        "    tar.extractall('/content/')"
      ]
    },
    {
      "cell_type": "code",
      "execution_count": 4,
      "metadata": {
        "colab": {
          "base_uri": "https://localhost:8080/"
        },
        "id": "PEaAb8uBaGo8",
        "outputId": "23fdae52-3cc7-49e8-e23a-bd7264a58627",
        "collapsed": true
      },
      "outputs": [
        {
          "output_type": "stream",
          "name": "stdout",
          "text": [
            "Class names: ['tulips', 'daisy', 'roses', 'dandelion', 'sunflowers']\n"
          ]
        }
      ],
      "source": [
        "batch_size = 32\n",
        "img_height = 224\n",
        "img_width = 224\n",
        "\n",
        "def load_data(folder_path):\n",
        "    X = []\n",
        "    y = []\n",
        "    class_names = [d for d in os.listdir(folder_path) if os.path.isdir(os.path.join(folder_path, d))]\n",
        "    print(\"Class names:\", class_names)\n",
        "\n",
        "    for i, class_name in enumerate(class_names):\n",
        "        class_path = os.path.join(folder_path, class_name)\n",
        "        for image_name in os.listdir(class_path):\n",
        "            image_path = os.path.join(class_path, image_name)\n",
        "            try:\n",
        "                image = load_img(image_path, target_size=(224, 224)) # change image size from original to make them of same shape\n",
        "                image = img_to_array(image)\n",
        "                X.append(image)\n",
        "                y.append(i)\n",
        "            except Exception as e:\n",
        "                print(f\"Error loading image {image_path}: {e}\")\n",
        "    X = np.array(X)\n",
        "    y = np.array(y)\n",
        "    return X, y, class_names\n",
        "\n",
        "# Load the data\n",
        "X, y, class_names = load_data('flower_photos')"
      ]
    },
    {
      "cell_type": "code",
      "execution_count": 5,
      "metadata": {
        "id": "x66orgb9aLGC"
      },
      "outputs": [],
      "source": [
        "def split_data(X, y, train_size, val_size, test_size, random_state=None):\n",
        "\n",
        "    if train_size + val_size + test_size != 1.0:\n",
        "        raise ValueError(\"The sum of train_size, val_size, and test_size must be 1.0\")\n",
        "\n",
        "    X_train, X_temp, y_train, y_temp = train_test_split(X, y, test_size=(val_size + test_size), random_state=random_state)\n",
        "    remaining_proportion = val_size / (val_size + test_size)\n",
        "    X_val, X_test, y_val, y_test = train_test_split(X_temp, y_temp, test_size=(1 - remaining_proportion), random_state=random_state)\n",
        "\n",
        "    return X_train, X_val, X_test, y_train, y_val, y_test"
      ]
    },
    {
      "cell_type": "code",
      "execution_count": 6,
      "metadata": {
        "id": "p9dNuRTtab8B",
        "colab": {
          "base_uri": "https://localhost:8080/"
        },
        "outputId": "0588c512-4027-4cb1-f7f7-de1f61b0e01a"
      },
      "outputs": [
        {
          "output_type": "stream",
          "name": "stdout",
          "text": [
            "(3670, 224, 224, 3)\n"
          ]
        }
      ],
      "source": [
        "# Normalize data first:\n",
        "\n",
        "X_normalized = X/255.\n",
        "print(X_normalized.shape)\n",
        "del(X)"
      ]
    },
    {
      "cell_type": "code",
      "execution_count": 7,
      "metadata": {
        "id": "YeEFmOvjadW5"
      },
      "outputs": [],
      "source": [
        "X_train, X_val, X_test, y_train, y_val, y_test = split_data(X_normalized, y,\n",
        "                                                            train_size=0.8,\n",
        "                                                            val_size=0.1,\n",
        "                                                            test_size=0.1,\n",
        "                                                            random_state=42)"
      ]
    },
    {
      "cell_type": "code",
      "execution_count": 8,
      "metadata": {
        "id": "0MZZwzHLafFR"
      },
      "outputs": [],
      "source": [
        "# Delete unused data, to prevent RAM from going boom\n",
        "\n",
        "del(X_normalized)"
      ]
    },
    {
      "cell_type": "code",
      "execution_count": 9,
      "metadata": {
        "id": "yybsD98ArbcI"
      },
      "outputs": [],
      "source": [
        "# Sequence of modules to place before the actual NN\n",
        "\n",
        "data_augmentation = keras.Sequential([\n",
        "    keras.layers.experimental.preprocessing.RandomFlip('horizontal',input_shape = (224,224,3)),\n",
        "    keras.layers.experimental.preprocessing.RandomRotation(0.2),\n",
        "    keras.layers.experimental.preprocessing.RandomZoom(0.2)\n",
        "])"
      ]
    },
    {
      "cell_type": "code",
      "execution_count": 10,
      "metadata": {
        "id": "oPdAHeS_ExPM"
      },
      "outputs": [],
      "source": [
        "# Encode classes in valid format\n",
        "\n",
        "y_train_encoded = to_categorical(y_train, 5)\n",
        "y_val_encoded = to_categorical(y_val, 5)"
      ]
    },
    {
      "cell_type": "markdown",
      "metadata": {
        "id": "UlzfAcm9m8CT"
      },
      "source": [
        "# Train the NN with frozen layers\n",
        "\n",
        "FWe do this for reference:"
      ]
    },
    {
      "cell_type": "code",
      "execution_count": 11,
      "metadata": {
        "id": "b4h1HuJdagWI"
      },
      "outputs": [],
      "source": [
        "# Load and freeze pretrained model\n",
        "pretrained_layer = keras.Sequential([\n",
        "    hub.KerasLayer(\"https://tfhub.dev/google/tf2-preview/mobilenet_v2/feature_vector/4\", input_shape=(224, 224, 3))\n",
        "])\n",
        "pretrained_layer.trainable = False\n",
        "\n",
        "# Add custom layers\n",
        "pretrained_model_aug = keras.Sequential([\n",
        "    data_augmentation,\n",
        "    pretrained_layer,\n",
        "    layers.Dropout(0.2),\n",
        "    layers.Dense(5, activation='softmax')\n",
        "])\n",
        "\n",
        "# Compile the model\n",
        "pretrained_model_aug.compile(\n",
        "    optimizer=Adam(learning_rate=1e-3),\n",
        "    loss='categorical_crossentropy',\n",
        "    metrics=['accuracy']\n",
        ")\n",
        "\n",
        "patience_freeze = 5\n",
        "early_stopping = EarlyStopping(monitor='val_loss', patience=patience_freeze, restore_best_weights=True)"
      ]
    },
    {
      "cell_type": "code",
      "execution_count": 12,
      "metadata": {
        "colab": {
          "base_uri": "https://localhost:8080/"
        },
        "id": "RIGGnRudEL65",
        "outputId": "c01892fb-58b0-4031-b914-5eabf1191f18"
      },
      "outputs": [
        {
          "output_type": "stream",
          "name": "stdout",
          "text": [
            "Model: \"sequential_2\"\n",
            "_________________________________________________________________\n",
            " Layer (type)                Output Shape              Param #   \n",
            "=================================================================\n",
            " sequential (Sequential)     (None, 224, 224, 3)       0         \n",
            "                                                                 \n",
            " sequential_1 (Sequential)   (None, 1280)              2257984   \n",
            "                                                                 \n",
            " dropout (Dropout)           (None, 1280)              0         \n",
            "                                                                 \n",
            " dense (Dense)               (None, 5)                 6405      \n",
            "                                                                 \n",
            "=================================================================\n",
            "Total params: 2264389 (8.64 MB)\n",
            "Trainable params: 6405 (25.02 KB)\n",
            "Non-trainable params: 2257984 (8.61 MB)\n",
            "_________________________________________________________________\n"
          ]
        }
      ],
      "source": [
        "pretrained_model_aug.summary()"
      ]
    },
    {
      "cell_type": "code",
      "execution_count": 13,
      "metadata": {
        "colab": {
          "base_uri": "https://localhost:8080/"
        },
        "id": "qxjsFxwNalWu",
        "outputId": "8d597c02-bc12-42d0-c919-6070ce268d43"
      },
      "outputs": [
        {
          "output_type": "stream",
          "name": "stdout",
          "text": [
            "Epoch 1/30\n",
            "92/92 [==============================] - 16s 78ms/step - loss: 0.8694 - accuracy: 0.6720 - val_loss: 0.5114 - val_accuracy: 0.8147\n",
            "Epoch 2/30\n",
            "92/92 [==============================] - 5s 53ms/step - loss: 0.4952 - accuracy: 0.8185 - val_loss: 0.4500 - val_accuracy: 0.8338\n",
            "Epoch 3/30\n",
            "92/92 [==============================] - 4s 49ms/step - loss: 0.4597 - accuracy: 0.8382 - val_loss: 0.4157 - val_accuracy: 0.8583\n",
            "Epoch 4/30\n",
            "92/92 [==============================] - 5s 51ms/step - loss: 0.3953 - accuracy: 0.8522 - val_loss: 0.3949 - val_accuracy: 0.8583\n",
            "Epoch 5/30\n",
            "92/92 [==============================] - 6s 61ms/step - loss: 0.3749 - accuracy: 0.8658 - val_loss: 0.4089 - val_accuracy: 0.8501\n",
            "Epoch 6/30\n",
            "92/92 [==============================] - 4s 48ms/step - loss: 0.3463 - accuracy: 0.8774 - val_loss: 0.3675 - val_accuracy: 0.8665\n",
            "Epoch 7/30\n",
            "92/92 [==============================] - 5s 50ms/step - loss: 0.3342 - accuracy: 0.8832 - val_loss: 0.3555 - val_accuracy: 0.8610\n",
            "Epoch 8/30\n",
            "92/92 [==============================] - 5s 54ms/step - loss: 0.3181 - accuracy: 0.8873 - val_loss: 0.3701 - val_accuracy: 0.8501\n",
            "Epoch 9/30\n",
            "92/92 [==============================] - 4s 48ms/step - loss: 0.3054 - accuracy: 0.8900 - val_loss: 0.3509 - val_accuracy: 0.8719\n",
            "Epoch 10/30\n",
            "92/92 [==============================] - 5s 51ms/step - loss: 0.3024 - accuracy: 0.8944 - val_loss: 0.3451 - val_accuracy: 0.8692\n",
            "Epoch 11/30\n",
            "92/92 [==============================] - 5s 52ms/step - loss: 0.2871 - accuracy: 0.8999 - val_loss: 0.3572 - val_accuracy: 0.8638\n",
            "Epoch 12/30\n",
            "92/92 [==============================] - 4s 48ms/step - loss: 0.2840 - accuracy: 0.8975 - val_loss: 0.3411 - val_accuracy: 0.8638\n",
            "Epoch 13/30\n",
            "92/92 [==============================] - 5s 51ms/step - loss: 0.2586 - accuracy: 0.9108 - val_loss: 0.3520 - val_accuracy: 0.8692\n",
            "Epoch 14/30\n",
            "92/92 [==============================] - 5s 52ms/step - loss: 0.2745 - accuracy: 0.9040 - val_loss: 0.3636 - val_accuracy: 0.8638\n",
            "Epoch 15/30\n",
            "92/92 [==============================] - 4s 48ms/step - loss: 0.2707 - accuracy: 0.9070 - val_loss: 0.3299 - val_accuracy: 0.8747\n",
            "Epoch 16/30\n",
            "92/92 [==============================] - 5s 52ms/step - loss: 0.2650 - accuracy: 0.8985 - val_loss: 0.3266 - val_accuracy: 0.8828\n",
            "Epoch 17/30\n",
            "92/92 [==============================] - 5s 49ms/step - loss: 0.2864 - accuracy: 0.9016 - val_loss: 0.3345 - val_accuracy: 0.8937\n",
            "Epoch 18/30\n",
            "92/92 [==============================] - 4s 49ms/step - loss: 0.2607 - accuracy: 0.9067 - val_loss: 0.3210 - val_accuracy: 0.8719\n",
            "Epoch 19/30\n",
            "92/92 [==============================] - 5s 52ms/step - loss: 0.2545 - accuracy: 0.9121 - val_loss: 0.3284 - val_accuracy: 0.8883\n",
            "Epoch 20/30\n",
            "92/92 [==============================] - 5s 49ms/step - loss: 0.2591 - accuracy: 0.9036 - val_loss: 0.3398 - val_accuracy: 0.8937\n",
            "Epoch 21/30\n",
            "92/92 [==============================] - 5s 50ms/step - loss: 0.2500 - accuracy: 0.9057 - val_loss: 0.3600 - val_accuracy: 0.8828\n",
            "Epoch 22/30\n",
            "92/92 [==============================] - 5s 50ms/step - loss: 0.2434 - accuracy: 0.9111 - val_loss: 0.3265 - val_accuracy: 0.8883\n",
            "Epoch 23/30\n",
            "92/92 [==============================] - 5s 53ms/step - loss: 0.2455 - accuracy: 0.9135 - val_loss: 0.3220 - val_accuracy: 0.8828\n"
          ]
        }
      ],
      "source": [
        "# Fit model with callbacks\n",
        "history = pretrained_model_aug.fit(\n",
        "    X_train,\n",
        "    y_train_encoded,\n",
        "    validation_data=(X_val, y_val_encoded),\n",
        "    epochs=30,\n",
        "    callbacks=[early_stopping]\n",
        ")"
      ]
    },
    {
      "cell_type": "markdown",
      "metadata": {
        "id": "AJWootYbnICl"
      },
      "source": [
        "## Results"
      ]
    },
    {
      "cell_type": "code",
      "execution_count": 14,
      "metadata": {
        "id": "bU-Cqi_3nlVS"
      },
      "outputs": [],
      "source": [
        "# Load history dict\n",
        "history_dict = history.history\n",
        "\n",
        "# Create a DataFrame from the history dictionary\n",
        "history_df = pd.DataFrame(history_dict)\n",
        "\n",
        "# Add an epoch column\n",
        "history_df['epoch'] = history_df.index + 1"
      ]
    },
    {
      "cell_type": "code",
      "execution_count": 15,
      "metadata": {
        "colab": {
          "base_uri": "https://localhost:8080/"
        },
        "id": "j9U_-FggAEoJ",
        "outputId": "0c10b2ce-e3c6-4871-962e-5116940bf280"
      },
      "outputs": [
        {
          "output_type": "stream",
          "name": "stdout",
          "text": [
            "12/12 [==============================] - 1s 36ms/step\n"
          ]
        }
      ],
      "source": [
        "y_pred = pretrained_model_aug.predict(X_test)\n",
        "\n",
        "# Convert probabilities to class labels\n",
        "y_pred_classes = np.argmax(y_pred, axis=1)"
      ]
    },
    {
      "cell_type": "code",
      "execution_count": 16,
      "metadata": {
        "colab": {
          "base_uri": "https://localhost:8080/"
        },
        "id": "Q_XM29XcAE0Q",
        "outputId": "09afc51c-7f6b-4253-bc46-47a61c8b4e0c"
      },
      "outputs": [
        {
          "output_type": "stream",
          "name": "stdout",
          "text": [
            "Accuracy: 90.46%\n",
            "F1 Scores for each class:\n",
            "Class 0: 0.90\n",
            "Class 1: 0.90\n",
            "Class 2: 0.89\n",
            "Class 3: 0.93\n",
            "Class 4: 0.91\n",
            "Mean F1 Score: 0.9040\n"
          ]
        }
      ],
      "source": [
        "accuracy = accuracy_score(y_test, y_pred_classes)\n",
        "print(f'Accuracy: {accuracy * 100:.2f}%')\n",
        "\n",
        "# Compute F1 scores for each class\n",
        "f1_scores = f1_score(y_test, y_pred_classes, average=None)\n",
        "mean_f1_score = np.mean(f1_scores)\n",
        "\n",
        "# Print F1 scores\n",
        "print(\"F1 Scores for each class:\")\n",
        "for i, score in enumerate(f1_scores):\n",
        "    print(f\"Class {i}: {score:.2f}\")\n",
        "\n",
        "# Print mean F1 score\n",
        "print(f\"Mean F1 Score: {mean_f1_score:.4f}\")"
      ]
    },
    {
      "cell_type": "code",
      "execution_count": 17,
      "metadata": {
        "id": "LHkdzvrCozjx"
      },
      "outputs": [],
      "source": [
        "# Save the model to Google Drive\n",
        "# drive.mount('/content/gdrive')\n",
        "\n",
        "model_save_path = 'gdrive/My Drive/Colab Notebooks/flower_transfer_learning.keras'\n",
        "pretrained_model_aug.save(model_save_path)"
      ]
    },
    {
      "cell_type": "markdown",
      "metadata": {
        "id": "fbPB2m1xAQRT"
      },
      "source": [
        "# Train the NN unfreezing top layers"
      ]
    },
    {
      "cell_type": "code",
      "execution_count": 18,
      "metadata": {
        "id": "ylNF_yMLyndy"
      },
      "outputs": [],
      "source": [
        "pretrained_layer.trainable = True\n",
        "\n",
        "# Fine-tune from this layer onwards\n",
        "fine_tuning = 150\n",
        "\n",
        "# Freeze all the layers before fine_tuned_ind\n",
        "for layer in pretrained_layer.layers[:fine_tuning]:\n",
        "    layer.trainable =  False"
      ]
    },
    {
      "cell_type": "code",
      "execution_count": 19,
      "metadata": {
        "colab": {
          "base_uri": "https://localhost:8080/"
        },
        "id": "fdojEFK8pBCB",
        "outputId": "ffbc089d-f107-4c8d-b8ff-c2d6549abfac"
      },
      "outputs": [
        {
          "output_type": "stream",
          "name": "stdout",
          "text": [
            "Epoch 1/30\n",
            "92/92 [==============================] - 8s 62ms/step - loss: 0.2294 - accuracy: 0.9166 - val_loss: 0.3180 - val_accuracy: 0.8828 - lr: 1.0000e-04\n",
            "Epoch 2/30\n",
            "92/92 [==============================] - 5s 50ms/step - loss: 0.2305 - accuracy: 0.9176 - val_loss: 0.3156 - val_accuracy: 0.8828 - lr: 1.0000e-04\n",
            "Epoch 3/30\n",
            "92/92 [==============================] - 5s 52ms/step - loss: 0.2376 - accuracy: 0.9183 - val_loss: 0.3144 - val_accuracy: 0.8828 - lr: 1.0000e-04\n",
            "Epoch 4/30\n",
            "92/92 [==============================] - 5s 51ms/step - loss: 0.2365 - accuracy: 0.9155 - val_loss: 0.3200 - val_accuracy: 0.8856 - lr: 1.0000e-04\n",
            "Epoch 5/30\n",
            "92/92 [==============================] - 5s 51ms/step - loss: 0.2307 - accuracy: 0.9193 - val_loss: 0.3111 - val_accuracy: 0.8910 - lr: 1.0000e-04\n",
            "Epoch 6/30\n",
            "92/92 [==============================] - 5s 54ms/step - loss: 0.2296 - accuracy: 0.9200 - val_loss: 0.3172 - val_accuracy: 0.8856 - lr: 1.0000e-04\n",
            "Epoch 7/30\n",
            "92/92 [==============================] - 5s 50ms/step - loss: 0.2346 - accuracy: 0.9138 - val_loss: 0.3135 - val_accuracy: 0.8883 - lr: 1.0000e-04\n",
            "Epoch 8/30\n",
            "91/92 [============================>.] - ETA: 0s - loss: 0.2219 - accuracy: 0.9214\n",
            "Epoch 8: ReduceLROnPlateau reducing learning rate to 6.999999823165126e-05.\n",
            "92/92 [==============================] - 4s 48ms/step - loss: 0.2207 - accuracy: 0.9220 - val_loss: 0.3145 - val_accuracy: 0.8856 - lr: 1.0000e-04\n",
            "Epoch 9/30\n",
            "92/92 [==============================] - 5s 51ms/step - loss: 0.2284 - accuracy: 0.9230 - val_loss: 0.3155 - val_accuracy: 0.8883 - lr: 7.0000e-05\n",
            "Epoch 10/30\n",
            "92/92 [==============================] - 5s 50ms/step - loss: 0.2237 - accuracy: 0.9217 - val_loss: 0.3141 - val_accuracy: 0.8883 - lr: 7.0000e-05\n"
          ]
        }
      ],
      "source": [
        "# set a learning rate annealer\n",
        "reduce_lr = ReduceLROnPlateau(monitor='val_accuracy',\n",
        "                                            patience=3,\n",
        "                                            verbose=1,\n",
        "                                            factor=0.7,\n",
        "                                            min_lr=0.00001)\n",
        "\n",
        "# Recompile the model with a lower learning rate for fine-tuning\n",
        "pretrained_model_aug.compile(\n",
        "    optimizer=Adam(learning_rate=1e-4),  # 1/100 original LR\n",
        "    loss='categorical_crossentropy',\n",
        "    metrics=['accuracy']\n",
        ")\n",
        "\n",
        "# Continue training (fine-tuning)\n",
        "history_finetune = pretrained_model_aug.fit(\n",
        "    X_train,\n",
        "    y_train_encoded,\n",
        "    validation_data=(X_val, y_val_encoded),\n",
        "    epochs=30,\n",
        "    callbacks=[early_stopping, reduce_lr]\n",
        ")"
      ]
    },
    {
      "cell_type": "markdown",
      "metadata": {
        "id": "APHnNpRbnaHz"
      },
      "source": [
        "## Results"
      ]
    },
    {
      "cell_type": "code",
      "execution_count": 20,
      "metadata": {
        "id": "IHjiymBmp6g1"
      },
      "outputs": [],
      "source": [
        "# Assuming you have the history dictionary loaded\n",
        "history_dict_fine = history_finetune.history\n",
        "\n",
        "# Create a DataFrame from the history dictionary\n",
        "history_df_fine = pd.DataFrame(history_dict_fine)\n",
        "\n",
        "# Add an epoch column\n",
        "history_df_fine['epoch'] = history_df_fine.index + 1"
      ]
    },
    {
      "cell_type": "code",
      "execution_count": 21,
      "metadata": {
        "colab": {
          "base_uri": "https://localhost:8080/"
        },
        "id": "P7Nhtpa9q9Cb",
        "outputId": "763aea73-869d-4f4c-e1d3-809a44fd7ec0"
      },
      "outputs": [
        {
          "output_type": "stream",
          "name": "stdout",
          "text": [
            "12/12 [==============================] - 1s 35ms/step\n"
          ]
        }
      ],
      "source": [
        "y_pred1 = pretrained_model_aug.predict(X_test)\n",
        "\n",
        "# Convert probabilities to class labels\n",
        "y_pred_classes1 = np.argmax(y_pred1, axis=1)"
      ]
    },
    {
      "cell_type": "code",
      "execution_count": 22,
      "metadata": {
        "colab": {
          "base_uri": "https://localhost:8080/"
        },
        "id": "3QK5npb-ASIW",
        "outputId": "a7011917-ed90-4324-d4c1-200b259ea855"
      },
      "outputs": [
        {
          "output_type": "stream",
          "name": "stdout",
          "text": [
            "Accuracy: 91.55%\n",
            "F1 Scores for each class:\n",
            "Class 0: 0.92\n",
            "Class 1: 0.90\n",
            "Class 2: 0.91\n",
            "Class 3: 0.93\n",
            "Class 4: 0.91\n",
            "Mean F1 Score: 0.9143\n"
          ]
        }
      ],
      "source": [
        "accuracy1 = accuracy_score(y_test, y_pred_classes1)\n",
        "print(f'Accuracy: {accuracy1 * 100:.2f}%')\n",
        "\n",
        "# Compute F1 scores for each class\n",
        "f1_scores1 = f1_score(y_test, y_pred_classes1, average=None)\n",
        "mean_f1_score1 = np.mean(f1_scores1)\n",
        "\n",
        "# Print F1 scores\n",
        "print(\"F1 Scores for each class:\")\n",
        "for i, score in enumerate(f1_scores1):\n",
        "    print(f\"Class {i}: {score:.2f}\")\n",
        "\n",
        "# Print mean F1 score\n",
        "print(f\"Mean F1 Score: {mean_f1_score1:.4f}\")"
      ]
    },
    {
      "cell_type": "markdown",
      "metadata": {
        "id": "yAeMbLiindKa"
      },
      "source": [
        "# Make final plot of results"
      ]
    },
    {
      "cell_type": "code",
      "execution_count": 23,
      "metadata": {
        "id": "dM-RsBKrn2rs"
      },
      "outputs": [],
      "source": [
        "epochs_0 = len(history.history['accuracy'])-patience_freeze+1\n",
        "\n",
        "def plot_history_fined(history, history_finetune, initial_epochs=epochs_0, loss_max=1):\n",
        "    \"\"\"\n",
        "    Check loss and accuracy evolution after fine tuning\n",
        "    \"\"\"\n",
        "\n",
        "    acc = history.history['accuracy'][:epochs_0]\n",
        "    acc += history_finetune.history['accuracy']\n",
        "    val_acc = history.history['val_accuracy'][:epochs_0]\n",
        "    val_acc += history_finetune.history['val_accuracy']\n",
        "\n",
        "    loss = history.history['loss'][:epochs_0]\n",
        "    loss += history_finetune.history['loss']\n",
        "    val_loss = history.history['val_loss'][:epochs_0]\n",
        "    val_loss += history_finetune.history['val_loss']\n",
        "\n",
        "\n",
        "    fig, (ax1, ax2) = plt.subplots(1,2,figsize=(14, 6))\n",
        "    ax1.plot(acc, label='Training', marker='o', ls='-')\n",
        "    ax1.plot(val_acc, label='Validation', marker='o', ls='-')\n",
        "    ax1.plot([initial_epochs-1,initial_epochs-1],\n",
        "              plt.ylim(), label='Fine-tuning', ls='--')\n",
        "    ax1.legend(loc='lower right')\n",
        "    ax1.set(ylabel='Accuracy', xlabel='epochs', title='Training - Validation Accuracy',\n",
        "            ylim=([0.6,1.005]))\n",
        "    ax1.grid(True, alpha=0.4)\n",
        "\n",
        "    ax2.plot(loss, label='Training', marker='o', ls='-')\n",
        "    ax2.plot(val_loss, label='Validation', marker='o', ls='-')\n",
        "    ax2.plot([initial_epochs-1,initial_epochs-1],\n",
        "             [0,1] , label='Fine-tuning', ls='--')\n",
        "    ax2.legend(loc='upper right')\n",
        "    ax2.set(ylabel='Loss (cross entropy)', xlabel='epochs',\n",
        "           title='Training - Validation Loss', ylim=([0, loss_max]))\n",
        "    ax2.grid(True, alpha=0.4)\n",
        "\n",
        "    plt.savefig(\"finetuned_result.png\")\n",
        "    files.download(\"finetuned_result.png\")\n",
        "    plt.show()"
      ]
    },
    {
      "cell_type": "code",
      "execution_count": 24,
      "metadata": {
        "colab": {
          "base_uri": "https://localhost:8080/",
          "height": 514
        },
        "id": "yOynXBWipoU6",
        "outputId": "2699b164-4718-4cf6-f2c5-7e9ae7568d23"
      },
      "outputs": [
        {
          "output_type": "display_data",
          "data": {
            "text/plain": [
              "<IPython.core.display.Javascript object>"
            ],
            "application/javascript": [
              "\n",
              "    async function download(id, filename, size) {\n",
              "      if (!google.colab.kernel.accessAllowed) {\n",
              "        return;\n",
              "      }\n",
              "      const div = document.createElement('div');\n",
              "      const label = document.createElement('label');\n",
              "      label.textContent = `Downloading \"${filename}\": `;\n",
              "      div.appendChild(label);\n",
              "      const progress = document.createElement('progress');\n",
              "      progress.max = size;\n",
              "      div.appendChild(progress);\n",
              "      document.body.appendChild(div);\n",
              "\n",
              "      const buffers = [];\n",
              "      let downloaded = 0;\n",
              "\n",
              "      const channel = await google.colab.kernel.comms.open(id);\n",
              "      // Send a message to notify the kernel that we're ready.\n",
              "      channel.send({})\n",
              "\n",
              "      for await (const message of channel.messages) {\n",
              "        // Send a message to notify the kernel that we're ready.\n",
              "        channel.send({})\n",
              "        if (message.buffers) {\n",
              "          for (const buffer of message.buffers) {\n",
              "            buffers.push(buffer);\n",
              "            downloaded += buffer.byteLength;\n",
              "            progress.value = downloaded;\n",
              "          }\n",
              "        }\n",
              "      }\n",
              "      const blob = new Blob(buffers, {type: 'application/binary'});\n",
              "      const a = document.createElement('a');\n",
              "      a.href = window.URL.createObjectURL(blob);\n",
              "      a.download = filename;\n",
              "      div.appendChild(a);\n",
              "      a.click();\n",
              "      div.remove();\n",
              "    }\n",
              "  "
            ]
          },
          "metadata": {}
        },
        {
          "output_type": "display_data",
          "data": {
            "text/plain": [
              "<IPython.core.display.Javascript object>"
            ],
            "application/javascript": [
              "download(\"download_4025df17-bd79-41fe-ac14-3ce34687bbfb\", \"finetuned_result.png\", 72038)"
            ]
          },
          "metadata": {}
        },
        {
          "output_type": "display_data",
          "data": {
            "text/plain": [
              "<Figure size 1400x600 with 2 Axes>"
            ],
            "image/png": "[encoded data removed]"
          },
          "metadata": {}
        }
      ],
      "source": [
        "plot_history_fined(history, history_finetune)"
      ]
    }
  ],
  "metadata": {
    "accelerator": "GPU",
    "colab": {
      "gpuType": "T4",
      "provenance": []
    },
    "kernelspec": {
      "display_name": "Python 3",
      "name": "python3"
    },
    "language_info": {
      "name": "python"
    }
  },
  "nbformat": 4,
  "nbformat_minor": 0
}