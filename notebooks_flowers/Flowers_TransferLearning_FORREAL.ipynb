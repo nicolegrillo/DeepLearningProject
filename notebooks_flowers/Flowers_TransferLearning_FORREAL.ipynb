{
  "cells": [
    {
      "cell_type": "markdown",
      "metadata": {
        "id": "uDOHsAFVZAL1"
      },
      "source": [
        "# Transfer Learning for Flower Classification\n",
        "\n",
        "We use transfer learning applied to MobileNetV2, start by unfreezing 5 layers and then try and do more."
      ]
    },
    {
      "cell_type": "code",
      "source": [
        "import tarfile\n",
        "import os\n",
        "\n",
        "import matplotlib.pyplot as plt\n",
        "import numpy as np\n",
        "import seaborn as sns\n",
        "import pandas as pd\n",
        "import tensorflow as tf\n",
        "import tensorflow_hub as hub\n",
        "\n",
        "from google.colab import drive\n",
        "from google.colab import files\n",
        "from PIL import Image\n",
        "\n",
        "from sklearn.model_selection import train_test_split\n",
        "from sklearn.metrics import accuracy_score, confusion_matrix, f1_score\n",
        "\n",
        "from keras.preprocessing.image import ImageDataGenerator\n",
        "from keras.preprocessing.image import load_img, img_to_array\n",
        "from keras.models import Sequential\n",
        "from keras.layers import Conv2D, MaxPooling2D, Flatten, Dense, Dropout, GlobalAveragePooling2D\n",
        "from keras.optimizers import Adam\n",
        "from keras.utils import to_categorical\n",
        "from keras.callbacks import EarlyStopping, ReduceLROnPlateau\n",
        "from keras import layers, models\n",
        "\n",
        "from tensorflow.keras.layers.experimental import preprocessing\n",
        "from tensorflow import keras"
      ],
      "metadata": {
        "id": "n53Ehh5r5Ful"
      },
      "execution_count": 1,
      "outputs": []
    },
    {
      "cell_type": "code",
      "source": [
        "# Set seeds for reproducibility\n",
        "keras.utils.set_random_seed(1)"
      ],
      "metadata": {
        "id": "uAwv1c9hk-x3"
      },
      "execution_count": 2,
      "outputs": []
    },
    {
      "cell_type": "markdown",
      "metadata": {
        "id": "-JAFZjANmxFK"
      },
      "source": [
        "# Data fetching\n",
        "\n",
        "Import the data and apply normalization/augmentation/division in train, validation and test set."
      ]
    },
    {
      "cell_type": "code",
      "execution_count": 3,
      "metadata": {
        "colab": {
          "base_uri": "https://localhost:8080/"
        },
        "id": "aN2CfTorZ1GK",
        "outputId": "d3d612db-4f33-4879-a434-102b17d4b9e6"
      },
      "outputs": [
        {
          "output_type": "stream",
          "name": "stdout",
          "text": [
            "Drive already mounted at /content/gdrive; to attempt to forcibly remount, call drive.mount(\"/content/gdrive\", force_remount=True).\n"
          ]
        }
      ],
      "source": [
        "drive.mount('/content/gdrive')\n",
        "# Path to your .tgz file\n",
        "file_path = 'gdrive/My Drive/Colab Notebooks/flower_photos.tgz'\n",
        "\n",
        "# Extract the contents\n",
        "with tarfile.open(file_path, 'r:gz') as tar:\n",
        "    tar.extractall('/content/')"
      ]
    },
    {
      "cell_type": "code",
      "execution_count": 4,
      "metadata": {
        "colab": {
          "base_uri": "https://localhost:8080/"
        },
        "id": "PEaAb8uBaGo8",
        "outputId": "bb510973-1967-4178-fea1-8ddd88a6d82a",
        "collapsed": true
      },
      "outputs": [
        {
          "output_type": "stream",
          "name": "stdout",
          "text": [
            "Class names: ['roses', 'tulips', 'daisy', 'dandelion', 'sunflowers']\n"
          ]
        }
      ],
      "source": [
        "batch_size = 32\n",
        "img_height = 224\n",
        "img_width = 224\n",
        "\n",
        "def load_data(folder_path):\n",
        "    X = []\n",
        "    y = []\n",
        "    class_names = [d for d in os.listdir(folder_path) if os.path.isdir(os.path.join(folder_path, d))]\n",
        "    print(\"Class names:\", class_names)\n",
        "\n",
        "    for i, class_name in enumerate(class_names):\n",
        "        class_path = os.path.join(folder_path, class_name)\n",
        "        for image_name in os.listdir(class_path):\n",
        "            image_path = os.path.join(class_path, image_name)\n",
        "            try:\n",
        "                image = load_img(image_path, target_size=(224, 224)) # change image size from original to make them of same shape\n",
        "                image = img_to_array(image)\n",
        "                X.append(image)\n",
        "                y.append(i)\n",
        "            except Exception as e:\n",
        "                print(f\"Error loading image {image_path}: {e}\")\n",
        "    X = np.array(X)\n",
        "    y = np.array(y)\n",
        "    return X, y, class_names\n",
        "\n",
        "# Load the data\n",
        "X, y, class_names = load_data('flower_photos')"
      ]
    },
    {
      "cell_type": "code",
      "execution_count": 5,
      "metadata": {
        "id": "x66orgb9aLGC"
      },
      "outputs": [],
      "source": [
        "def split_data(X, y, train_size, val_size, test_size, random_state=None):\n",
        "\n",
        "    if train_size + val_size + test_size != 1.0:\n",
        "        raise ValueError(\"The sum of train_size, val_size, and test_size must be 1.0\")\n",
        "\n",
        "    X_train, X_temp, y_train, y_temp = train_test_split(X, y, test_size=(val_size + test_size), random_state=random_state)\n",
        "    remaining_proportion = val_size / (val_size + test_size)\n",
        "    X_val, X_test, y_val, y_test = train_test_split(X_temp, y_temp, test_size=(1 - remaining_proportion), random_state=random_state)\n",
        "\n",
        "    return X_train, X_val, X_test, y_train, y_val, y_test"
      ]
    },
    {
      "cell_type": "code",
      "execution_count": 6,
      "metadata": {
        "id": "p9dNuRTtab8B",
        "colab": {
          "base_uri": "https://localhost:8080/"
        },
        "outputId": "28d8b019-0212-4d3a-84f1-d068b58d3633"
      },
      "outputs": [
        {
          "output_type": "stream",
          "name": "stdout",
          "text": [
            "(3670, 224, 224, 3)\n"
          ]
        }
      ],
      "source": [
        "# Normalize data first:\n",
        "\n",
        "X_normalized = X/255.\n",
        "print(X_normalized.shape)\n",
        "del(X)"
      ]
    },
    {
      "cell_type": "code",
      "execution_count": 7,
      "metadata": {
        "id": "YeEFmOvjadW5"
      },
      "outputs": [],
      "source": [
        "X_train, X_val, X_test, y_train, y_val, y_test = split_data(X_normalized, y,\n",
        "                                                            train_size=0.8,\n",
        "                                                            val_size=0.1,\n",
        "                                                            test_size=0.1,\n",
        "                                                            random_state=42)"
      ]
    },
    {
      "cell_type": "code",
      "execution_count": 8,
      "metadata": {
        "id": "0MZZwzHLafFR"
      },
      "outputs": [],
      "source": [
        "# Delete unused data, to prevent RAM from going boom\n",
        "\n",
        "del(X_normalized)"
      ]
    },
    {
      "cell_type": "code",
      "execution_count": 9,
      "metadata": {
        "id": "yybsD98ArbcI"
      },
      "outputs": [],
      "source": [
        "# Sequence of modules to place before the actual NN\n",
        "\n",
        "data_augmentation = keras.Sequential([\n",
        "    keras.layers.experimental.preprocessing.RandomFlip('horizontal',input_shape = (224,224,3)),\n",
        "    keras.layers.experimental.preprocessing.RandomRotation(0.2),\n",
        "    keras.layers.experimental.preprocessing.RandomZoom(0.2)\n",
        "])"
      ]
    },
    {
      "cell_type": "code",
      "execution_count": 10,
      "metadata": {
        "id": "oPdAHeS_ExPM"
      },
      "outputs": [],
      "source": [
        "# Encode classes in valid format\n",
        "\n",
        "y_train_encoded = to_categorical(y_train, 5)\n",
        "y_val_encoded = to_categorical(y_val, 5)"
      ]
    },
    {
      "cell_type": "markdown",
      "metadata": {
        "id": "UlzfAcm9m8CT"
      },
      "source": [
        "# Train the NN with frozen layers\n",
        "\n",
        "FWe do this for reference:"
      ]
    },
    {
      "cell_type": "code",
      "execution_count": 11,
      "metadata": {
        "id": "b4h1HuJdagWI"
      },
      "outputs": [],
      "source": [
        "# Load and freeze pretrained model\n",
        "pretrained_layer = tf.keras.applications.MobileNetV2(input_shape=(224, 224, 3),\n",
        "                                               include_top=False,\n",
        "                                               weights='imagenet')\n",
        "pretrained_layer.trainable = False\n",
        "\n",
        "# Add custom layers\n",
        "pretrained_model_aug = keras.Sequential([\n",
        "    data_augmentation,\n",
        "    pretrained_layer,\n",
        "    layers.Flatten(),\n",
        "    layers.Dense(5, activation='softmax')\n",
        "])\n",
        "\n",
        "# Compile the model\n",
        "pretrained_model_aug.compile(\n",
        "    optimizer=Adam(learning_rate=1e-3),\n",
        "    loss='categorical_crossentropy',\n",
        "    metrics=['accuracy']\n",
        ")\n",
        "\n",
        "patience_freeze = 5\n",
        "early_stopping = EarlyStopping(monitor='val_loss', patience=patience_freeze, restore_best_weights=True)"
      ]
    },
    {
      "cell_type": "code",
      "source": [
        "pretrained_layer.summary()"
      ],
      "metadata": {
        "colab": {
          "base_uri": "https://localhost:8080/"
        },
        "id": "PGVO4_EyNNo_",
        "outputId": "372ec5e2-7f29-485e-f927-4a6c33af11e0"
      },
      "execution_count": 12,
      "outputs": [
        {
          "output_type": "stream",
          "name": "stdout",
          "text": [
            "Model: \"mobilenetv2_1.00_224\"\n",
            "__________________________________________________________________________________________________\n",
            " Layer (type)                Output Shape                 Param #   Connected to                  \n",
            "==================================================================================================\n",
            " input_1 (InputLayer)        [(None, 224, 224, 3)]        0         []                            \n",
            "                                                                                                  \n",
            " Conv1 (Conv2D)              (None, 112, 112, 32)         864       ['input_1[0][0]']             \n",
            "                                                                                                  \n",
            " bn_Conv1 (BatchNormalizati  (None, 112, 112, 32)         128       ['Conv1[0][0]']               \n",
            " on)                                                                                              \n",
            "                                                                                                  \n",
            " Conv1_relu (ReLU)           (None, 112, 112, 32)         0         ['bn_Conv1[0][0]']            \n",
            "                                                                                                  \n",
            " expanded_conv_depthwise (D  (None, 112, 112, 32)         288       ['Conv1_relu[0][0]']          \n",
            " epthwiseConv2D)                                                                                  \n",
            "                                                                                                  \n",
            " expanded_conv_depthwise_BN  (None, 112, 112, 32)         128       ['expanded_conv_depthwise[0][0\n",
            "  (BatchNormalization)                                              ]']                           \n",
            "                                                                                                  \n",
            " expanded_conv_depthwise_re  (None, 112, 112, 32)         0         ['expanded_conv_depthwise_BN[0\n",
            " lu (ReLU)                                                          ][0]']                        \n",
            "                                                                                                  \n",
            " expanded_conv_project (Con  (None, 112, 112, 16)         512       ['expanded_conv_depthwise_relu\n",
            " v2D)                                                               [0][0]']                      \n",
            "                                                                                                  \n",
            " expanded_conv_project_BN (  (None, 112, 112, 16)         64        ['expanded_conv_project[0][0]'\n",
            " BatchNormalization)                                                ]                             \n",
            "                                                                                                  \n",
            " block_1_expand (Conv2D)     (None, 112, 112, 96)         1536      ['expanded_conv_project_BN[0][\n",
            "                                                                    0]']                          \n",
            "                                                                                                  \n",
            " block_1_expand_BN (BatchNo  (None, 112, 112, 96)         384       ['block_1_expand[0][0]']      \n",
            " rmalization)                                                                                     \n",
            "                                                                                                  \n",
            " block_1_expand_relu (ReLU)  (None, 112, 112, 96)         0         ['block_1_expand_BN[0][0]']   \n",
            "                                                                                                  \n",
            " block_1_pad (ZeroPadding2D  (None, 113, 113, 96)         0         ['block_1_expand_relu[0][0]'] \n",
            " )                                                                                                \n",
            "                                                                                                  \n",
            " block_1_depthwise (Depthwi  (None, 56, 56, 96)           864       ['block_1_pad[0][0]']         \n",
            " seConv2D)                                                                                        \n",
            "                                                                                                  \n",
            " block_1_depthwise_BN (Batc  (None, 56, 56, 96)           384       ['block_1_depthwise[0][0]']   \n",
            " hNormalization)                                                                                  \n",
            "                                                                                                  \n",
            " block_1_depthwise_relu (Re  (None, 56, 56, 96)           0         ['block_1_depthwise_BN[0][0]']\n",
            " LU)                                                                                              \n",
            "                                                                                                  \n",
            " block_1_project (Conv2D)    (None, 56, 56, 24)           2304      ['block_1_depthwise_relu[0][0]\n",
            "                                                                    ']                            \n",
            "                                                                                                  \n",
            " block_1_project_BN (BatchN  (None, 56, 56, 24)           96        ['block_1_project[0][0]']     \n",
            " ormalization)                                                                                    \n",
            "                                                                                                  \n",
            " block_2_expand (Conv2D)     (None, 56, 56, 144)          3456      ['block_1_project_BN[0][0]']  \n",
            "                                                                                                  \n",
            " block_2_expand_BN (BatchNo  (None, 56, 56, 144)          576       ['block_2_expand[0][0]']      \n",
            " rmalization)                                                                                     \n",
            "                                                                                                  \n",
            " block_2_expand_relu (ReLU)  (None, 56, 56, 144)          0         ['block_2_expand_BN[0][0]']   \n",
            "                                                                                                  \n",
            " block_2_depthwise (Depthwi  (None, 56, 56, 144)          1296      ['block_2_expand_relu[0][0]'] \n",
            " seConv2D)                                                                                        \n",
            "                                                                                                  \n",
            " block_2_depthwise_BN (Batc  (None, 56, 56, 144)          576       ['block_2_depthwise[0][0]']   \n",
            " hNormalization)                                                                                  \n",
            "                                                                                                  \n",
            " block_2_depthwise_relu (Re  (None, 56, 56, 144)          0         ['block_2_depthwise_BN[0][0]']\n",
            " LU)                                                                                              \n",
            "                                                                                                  \n",
            " block_2_project (Conv2D)    (None, 56, 56, 24)           3456      ['block_2_depthwise_relu[0][0]\n",
            "                                                                    ']                            \n",
            "                                                                                                  \n",
            " block_2_project_BN (BatchN  (None, 56, 56, 24)           96        ['block_2_project[0][0]']     \n",
            " ormalization)                                                                                    \n",
            "                                                                                                  \n",
            " block_2_add (Add)           (None, 56, 56, 24)           0         ['block_1_project_BN[0][0]',  \n",
            "                                                                     'block_2_project_BN[0][0]']  \n",
            "                                                                                                  \n",
            " block_3_expand (Conv2D)     (None, 56, 56, 144)          3456      ['block_2_add[0][0]']         \n",
            "                                                                                                  \n",
            " block_3_expand_BN (BatchNo  (None, 56, 56, 144)          576       ['block_3_expand[0][0]']      \n",
            " rmalization)                                                                                     \n",
            "                                                                                                  \n",
            " block_3_expand_relu (ReLU)  (None, 56, 56, 144)          0         ['block_3_expand_BN[0][0]']   \n",
            "                                                                                                  \n",
            " block_3_pad (ZeroPadding2D  (None, 57, 57, 144)          0         ['block_3_expand_relu[0][0]'] \n",
            " )                                                                                                \n",
            "                                                                                                  \n",
            " block_3_depthwise (Depthwi  (None, 28, 28, 144)          1296      ['block_3_pad[0][0]']         \n",
            " seConv2D)                                                                                        \n",
            "                                                                                                  \n",
            " block_3_depthwise_BN (Batc  (None, 28, 28, 144)          576       ['block_3_depthwise[0][0]']   \n",
            " hNormalization)                                                                                  \n",
            "                                                                                                  \n",
            " block_3_depthwise_relu (Re  (None, 28, 28, 144)          0         ['block_3_depthwise_BN[0][0]']\n",
            " LU)                                                                                              \n",
            "                                                                                                  \n",
            " block_3_project (Conv2D)    (None, 28, 28, 32)           4608      ['block_3_depthwise_relu[0][0]\n",
            "                                                                    ']                            \n",
            "                                                                                                  \n",
            " block_3_project_BN (BatchN  (None, 28, 28, 32)           128       ['block_3_project[0][0]']     \n",
            " ormalization)                                                                                    \n",
            "                                                                                                  \n",
            " block_4_expand (Conv2D)     (None, 28, 28, 192)          6144      ['block_3_project_BN[0][0]']  \n",
            "                                                                                                  \n",
            " block_4_expand_BN (BatchNo  (None, 28, 28, 192)          768       ['block_4_expand[0][0]']      \n",
            " rmalization)                                                                                     \n",
            "                                                                                                  \n",
            " block_4_expand_relu (ReLU)  (None, 28, 28, 192)          0         ['block_4_expand_BN[0][0]']   \n",
            "                                                                                                  \n",
            " block_4_depthwise (Depthwi  (None, 28, 28, 192)          1728      ['block_4_expand_relu[0][0]'] \n",
            " seConv2D)                                                                                        \n",
            "                                                                                                  \n",
            " block_4_depthwise_BN (Batc  (None, 28, 28, 192)          768       ['block_4_depthwise[0][0]']   \n",
            " hNormalization)                                                                                  \n",
            "                                                                                                  \n",
            " block_4_depthwise_relu (Re  (None, 28, 28, 192)          0         ['block_4_depthwise_BN[0][0]']\n",
            " LU)                                                                                              \n",
            "                                                                                                  \n",
            " block_4_project (Conv2D)    (None, 28, 28, 32)           6144      ['block_4_depthwise_relu[0][0]\n",
            "                                                                    ']                            \n",
            "                                                                                                  \n",
            " block_4_project_BN (BatchN  (None, 28, 28, 32)           128       ['block_4_project[0][0]']     \n",
            " ormalization)                                                                                    \n",
            "                                                                                                  \n",
            " block_4_add (Add)           (None, 28, 28, 32)           0         ['block_3_project_BN[0][0]',  \n",
            "                                                                     'block_4_project_BN[0][0]']  \n",
            "                                                                                                  \n",
            " block_5_expand (Conv2D)     (None, 28, 28, 192)          6144      ['block_4_add[0][0]']         \n",
            "                                                                                                  \n",
            " block_5_expand_BN (BatchNo  (None, 28, 28, 192)          768       ['block_5_expand[0][0]']      \n",
            " rmalization)                                                                                     \n",
            "                                                                                                  \n",
            " block_5_expand_relu (ReLU)  (None, 28, 28, 192)          0         ['block_5_expand_BN[0][0]']   \n",
            "                                                                                                  \n",
            " block_5_depthwise (Depthwi  (None, 28, 28, 192)          1728      ['block_5_expand_relu[0][0]'] \n",
            " seConv2D)                                                                                        \n",
            "                                                                                                  \n",
            " block_5_depthwise_BN (Batc  (None, 28, 28, 192)          768       ['block_5_depthwise[0][0]']   \n",
            " hNormalization)                                                                                  \n",
            "                                                                                                  \n",
            " block_5_depthwise_relu (Re  (None, 28, 28, 192)          0         ['block_5_depthwise_BN[0][0]']\n",
            " LU)                                                                                              \n",
            "                                                                                                  \n",
            " block_5_project (Conv2D)    (None, 28, 28, 32)           6144      ['block_5_depthwise_relu[0][0]\n",
            "                                                                    ']                            \n",
            "                                                                                                  \n",
            " block_5_project_BN (BatchN  (None, 28, 28, 32)           128       ['block_5_project[0][0]']     \n",
            " ormalization)                                                                                    \n",
            "                                                                                                  \n",
            " block_5_add (Add)           (None, 28, 28, 32)           0         ['block_4_add[0][0]',         \n",
            "                                                                     'block_5_project_BN[0][0]']  \n",
            "                                                                                                  \n",
            " block_6_expand (Conv2D)     (None, 28, 28, 192)          6144      ['block_5_add[0][0]']         \n",
            "                                                                                                  \n",
            " block_6_expand_BN (BatchNo  (None, 28, 28, 192)          768       ['block_6_expand[0][0]']      \n",
            " rmalization)                                                                                     \n",
            "                                                                                                  \n",
            " block_6_expand_relu (ReLU)  (None, 28, 28, 192)          0         ['block_6_expand_BN[0][0]']   \n",
            "                                                                                                  \n",
            " block_6_pad (ZeroPadding2D  (None, 29, 29, 192)          0         ['block_6_expand_relu[0][0]'] \n",
            " )                                                                                                \n",
            "                                                                                                  \n",
            " block_6_depthwise (Depthwi  (None, 14, 14, 192)          1728      ['block_6_pad[0][0]']         \n",
            " seConv2D)                                                                                        \n",
            "                                                                                                  \n",
            " block_6_depthwise_BN (Batc  (None, 14, 14, 192)          768       ['block_6_depthwise[0][0]']   \n",
            " hNormalization)                                                                                  \n",
            "                                                                                                  \n",
            " block_6_depthwise_relu (Re  (None, 14, 14, 192)          0         ['block_6_depthwise_BN[0][0]']\n",
            " LU)                                                                                              \n",
            "                                                                                                  \n",
            " block_6_project (Conv2D)    (None, 14, 14, 64)           12288     ['block_6_depthwise_relu[0][0]\n",
            "                                                                    ']                            \n",
            "                                                                                                  \n",
            " block_6_project_BN (BatchN  (None, 14, 14, 64)           256       ['block_6_project[0][0]']     \n",
            " ormalization)                                                                                    \n",
            "                                                                                                  \n",
            " block_7_expand (Conv2D)     (None, 14, 14, 384)          24576     ['block_6_project_BN[0][0]']  \n",
            "                                                                                                  \n",
            " block_7_expand_BN (BatchNo  (None, 14, 14, 384)          1536      ['block_7_expand[0][0]']      \n",
            " rmalization)                                                                                     \n",
            "                                                                                                  \n",
            " block_7_expand_relu (ReLU)  (None, 14, 14, 384)          0         ['block_7_expand_BN[0][0]']   \n",
            "                                                                                                  \n",
            " block_7_depthwise (Depthwi  (None, 14, 14, 384)          3456      ['block_7_expand_relu[0][0]'] \n",
            " seConv2D)                                                                                        \n",
            "                                                                                                  \n",
            " block_7_depthwise_BN (Batc  (None, 14, 14, 384)          1536      ['block_7_depthwise[0][0]']   \n",
            " hNormalization)                                                                                  \n",
            "                                                                                                  \n",
            " block_7_depthwise_relu (Re  (None, 14, 14, 384)          0         ['block_7_depthwise_BN[0][0]']\n",
            " LU)                                                                                              \n",
            "                                                                                                  \n",
            " block_7_project (Conv2D)    (None, 14, 14, 64)           24576     ['block_7_depthwise_relu[0][0]\n",
            "                                                                    ']                            \n",
            "                                                                                                  \n",
            " block_7_project_BN (BatchN  (None, 14, 14, 64)           256       ['block_7_project[0][0]']     \n",
            " ormalization)                                                                                    \n",
            "                                                                                                  \n",
            " block_7_add (Add)           (None, 14, 14, 64)           0         ['block_6_project_BN[0][0]',  \n",
            "                                                                     'block_7_project_BN[0][0]']  \n",
            "                                                                                                  \n",
            " block_8_expand (Conv2D)     (None, 14, 14, 384)          24576     ['block_7_add[0][0]']         \n",
            "                                                                                                  \n",
            " block_8_expand_BN (BatchNo  (None, 14, 14, 384)          1536      ['block_8_expand[0][0]']      \n",
            " rmalization)                                                                                     \n",
            "                                                                                                  \n",
            " block_8_expand_relu (ReLU)  (None, 14, 14, 384)          0         ['block_8_expand_BN[0][0]']   \n",
            "                                                                                                  \n",
            " block_8_depthwise (Depthwi  (None, 14, 14, 384)          3456      ['block_8_expand_relu[0][0]'] \n",
            " seConv2D)                                                                                        \n",
            "                                                                                                  \n",
            " block_8_depthwise_BN (Batc  (None, 14, 14, 384)          1536      ['block_8_depthwise[0][0]']   \n",
            " hNormalization)                                                                                  \n",
            "                                                                                                  \n",
            " block_8_depthwise_relu (Re  (None, 14, 14, 384)          0         ['block_8_depthwise_BN[0][0]']\n",
            " LU)                                                                                              \n",
            "                                                                                                  \n",
            " block_8_project (Conv2D)    (None, 14, 14, 64)           24576     ['block_8_depthwise_relu[0][0]\n",
            "                                                                    ']                            \n",
            "                                                                                                  \n",
            " block_8_project_BN (BatchN  (None, 14, 14, 64)           256       ['block_8_project[0][0]']     \n",
            " ormalization)                                                                                    \n",
            "                                                                                                  \n",
            " block_8_add (Add)           (None, 14, 14, 64)           0         ['block_7_add[0][0]',         \n",
            "                                                                     'block_8_project_BN[0][0]']  \n",
            "                                                                                                  \n",
            " block_9_expand (Conv2D)     (None, 14, 14, 384)          24576     ['block_8_add[0][0]']         \n",
            "                                                                                                  \n",
            " block_9_expand_BN (BatchNo  (None, 14, 14, 384)          1536      ['block_9_expand[0][0]']      \n",
            " rmalization)                                                                                     \n",
            "                                                                                                  \n",
            " block_9_expand_relu (ReLU)  (None, 14, 14, 384)          0         ['block_9_expand_BN[0][0]']   \n",
            "                                                                                                  \n",
            " block_9_depthwise (Depthwi  (None, 14, 14, 384)          3456      ['block_9_expand_relu[0][0]'] \n",
            " seConv2D)                                                                                        \n",
            "                                                                                                  \n",
            " block_9_depthwise_BN (Batc  (None, 14, 14, 384)          1536      ['block_9_depthwise[0][0]']   \n",
            " hNormalization)                                                                                  \n",
            "                                                                                                  \n",
            " block_9_depthwise_relu (Re  (None, 14, 14, 384)          0         ['block_9_depthwise_BN[0][0]']\n",
            " LU)                                                                                              \n",
            "                                                                                                  \n",
            " block_9_project (Conv2D)    (None, 14, 14, 64)           24576     ['block_9_depthwise_relu[0][0]\n",
            "                                                                    ']                            \n",
            "                                                                                                  \n",
            " block_9_project_BN (BatchN  (None, 14, 14, 64)           256       ['block_9_project[0][0]']     \n",
            " ormalization)                                                                                    \n",
            "                                                                                                  \n",
            " block_9_add (Add)           (None, 14, 14, 64)           0         ['block_8_add[0][0]',         \n",
            "                                                                     'block_9_project_BN[0][0]']  \n",
            "                                                                                                  \n",
            " block_10_expand (Conv2D)    (None, 14, 14, 384)          24576     ['block_9_add[0][0]']         \n",
            "                                                                                                  \n",
            " block_10_expand_BN (BatchN  (None, 14, 14, 384)          1536      ['block_10_expand[0][0]']     \n",
            " ormalization)                                                                                    \n",
            "                                                                                                  \n",
            " block_10_expand_relu (ReLU  (None, 14, 14, 384)          0         ['block_10_expand_BN[0][0]']  \n",
            " )                                                                                                \n",
            "                                                                                                  \n",
            " block_10_depthwise (Depthw  (None, 14, 14, 384)          3456      ['block_10_expand_relu[0][0]']\n",
            " iseConv2D)                                                                                       \n",
            "                                                                                                  \n",
            " block_10_depthwise_BN (Bat  (None, 14, 14, 384)          1536      ['block_10_depthwise[0][0]']  \n",
            " chNormalization)                                                                                 \n",
            "                                                                                                  \n",
            " block_10_depthwise_relu (R  (None, 14, 14, 384)          0         ['block_10_depthwise_BN[0][0]'\n",
            " eLU)                                                               ]                             \n",
            "                                                                                                  \n",
            " block_10_project (Conv2D)   (None, 14, 14, 96)           36864     ['block_10_depthwise_relu[0][0\n",
            "                                                                    ]']                           \n",
            "                                                                                                  \n",
            " block_10_project_BN (Batch  (None, 14, 14, 96)           384       ['block_10_project[0][0]']    \n",
            " Normalization)                                                                                   \n",
            "                                                                                                  \n",
            " block_11_expand (Conv2D)    (None, 14, 14, 576)          55296     ['block_10_project_BN[0][0]'] \n",
            "                                                                                                  \n",
            " block_11_expand_BN (BatchN  (None, 14, 14, 576)          2304      ['block_11_expand[0][0]']     \n",
            " ormalization)                                                                                    \n",
            "                                                                                                  \n",
            " block_11_expand_relu (ReLU  (None, 14, 14, 576)          0         ['block_11_expand_BN[0][0]']  \n",
            " )                                                                                                \n",
            "                                                                                                  \n",
            " block_11_depthwise (Depthw  (None, 14, 14, 576)          5184      ['block_11_expand_relu[0][0]']\n",
            " iseConv2D)                                                                                       \n",
            "                                                                                                  \n",
            " block_11_depthwise_BN (Bat  (None, 14, 14, 576)          2304      ['block_11_depthwise[0][0]']  \n",
            " chNormalization)                                                                                 \n",
            "                                                                                                  \n",
            " block_11_depthwise_relu (R  (None, 14, 14, 576)          0         ['block_11_depthwise_BN[0][0]'\n",
            " eLU)                                                               ]                             \n",
            "                                                                                                  \n",
            " block_11_project (Conv2D)   (None, 14, 14, 96)           55296     ['block_11_depthwise_relu[0][0\n",
            "                                                                    ]']                           \n",
            "                                                                                                  \n",
            " block_11_project_BN (Batch  (None, 14, 14, 96)           384       ['block_11_project[0][0]']    \n",
            " Normalization)                                                                                   \n",
            "                                                                                                  \n",
            " block_11_add (Add)          (None, 14, 14, 96)           0         ['block_10_project_BN[0][0]', \n",
            "                                                                     'block_11_project_BN[0][0]'] \n",
            "                                                                                                  \n",
            " block_12_expand (Conv2D)    (None, 14, 14, 576)          55296     ['block_11_add[0][0]']        \n",
            "                                                                                                  \n",
            " block_12_expand_BN (BatchN  (None, 14, 14, 576)          2304      ['block_12_expand[0][0]']     \n",
            " ormalization)                                                                                    \n",
            "                                                                                                  \n",
            " block_12_expand_relu (ReLU  (None, 14, 14, 576)          0         ['block_12_expand_BN[0][0]']  \n",
            " )                                                                                                \n",
            "                                                                                                  \n",
            " block_12_depthwise (Depthw  (None, 14, 14, 576)          5184      ['block_12_expand_relu[0][0]']\n",
            " iseConv2D)                                                                                       \n",
            "                                                                                                  \n",
            " block_12_depthwise_BN (Bat  (None, 14, 14, 576)          2304      ['block_12_depthwise[0][0]']  \n",
            " chNormalization)                                                                                 \n",
            "                                                                                                  \n",
            " block_12_depthwise_relu (R  (None, 14, 14, 576)          0         ['block_12_depthwise_BN[0][0]'\n",
            " eLU)                                                               ]                             \n",
            "                                                                                                  \n",
            " block_12_project (Conv2D)   (None, 14, 14, 96)           55296     ['block_12_depthwise_relu[0][0\n",
            "                                                                    ]']                           \n",
            "                                                                                                  \n",
            " block_12_project_BN (Batch  (None, 14, 14, 96)           384       ['block_12_project[0][0]']    \n",
            " Normalization)                                                                                   \n",
            "                                                                                                  \n",
            " block_12_add (Add)          (None, 14, 14, 96)           0         ['block_11_add[0][0]',        \n",
            "                                                                     'block_12_project_BN[0][0]'] \n",
            "                                                                                                  \n",
            " block_13_expand (Conv2D)    (None, 14, 14, 576)          55296     ['block_12_add[0][0]']        \n",
            "                                                                                                  \n",
            " block_13_expand_BN (BatchN  (None, 14, 14, 576)          2304      ['block_13_expand[0][0]']     \n",
            " ormalization)                                                                                    \n",
            "                                                                                                  \n",
            " block_13_expand_relu (ReLU  (None, 14, 14, 576)          0         ['block_13_expand_BN[0][0]']  \n",
            " )                                                                                                \n",
            "                                                                                                  \n",
            " block_13_pad (ZeroPadding2  (None, 15, 15, 576)          0         ['block_13_expand_relu[0][0]']\n",
            " D)                                                                                               \n",
            "                                                                                                  \n",
            " block_13_depthwise (Depthw  (None, 7, 7, 576)            5184      ['block_13_pad[0][0]']        \n",
            " iseConv2D)                                                                                       \n",
            "                                                                                                  \n",
            " block_13_depthwise_BN (Bat  (None, 7, 7, 576)            2304      ['block_13_depthwise[0][0]']  \n",
            " chNormalization)                                                                                 \n",
            "                                                                                                  \n",
            " block_13_depthwise_relu (R  (None, 7, 7, 576)            0         ['block_13_depthwise_BN[0][0]'\n",
            " eLU)                                                               ]                             \n",
            "                                                                                                  \n",
            " block_13_project (Conv2D)   (None, 7, 7, 160)            92160     ['block_13_depthwise_relu[0][0\n",
            "                                                                    ]']                           \n",
            "                                                                                                  \n",
            " block_13_project_BN (Batch  (None, 7, 7, 160)            640       ['block_13_project[0][0]']    \n",
            " Normalization)                                                                                   \n",
            "                                                                                                  \n",
            " block_14_expand (Conv2D)    (None, 7, 7, 960)            153600    ['block_13_project_BN[0][0]'] \n",
            "                                                                                                  \n",
            " block_14_expand_BN (BatchN  (None, 7, 7, 960)            3840      ['block_14_expand[0][0]']     \n",
            " ormalization)                                                                                    \n",
            "                                                                                                  \n",
            " block_14_expand_relu (ReLU  (None, 7, 7, 960)            0         ['block_14_expand_BN[0][0]']  \n",
            " )                                                                                                \n",
            "                                                                                                  \n",
            " block_14_depthwise (Depthw  (None, 7, 7, 960)            8640      ['block_14_expand_relu[0][0]']\n",
            " iseConv2D)                                                                                       \n",
            "                                                                                                  \n",
            " block_14_depthwise_BN (Bat  (None, 7, 7, 960)            3840      ['block_14_depthwise[0][0]']  \n",
            " chNormalization)                                                                                 \n",
            "                                                                                                  \n",
            " block_14_depthwise_relu (R  (None, 7, 7, 960)            0         ['block_14_depthwise_BN[0][0]'\n",
            " eLU)                                                               ]                             \n",
            "                                                                                                  \n",
            " block_14_project (Conv2D)   (None, 7, 7, 160)            153600    ['block_14_depthwise_relu[0][0\n",
            "                                                                    ]']                           \n",
            "                                                                                                  \n",
            " block_14_project_BN (Batch  (None, 7, 7, 160)            640       ['block_14_project[0][0]']    \n",
            " Normalization)                                                                                   \n",
            "                                                                                                  \n",
            " block_14_add (Add)          (None, 7, 7, 160)            0         ['block_13_project_BN[0][0]', \n",
            "                                                                     'block_14_project_BN[0][0]'] \n",
            "                                                                                                  \n",
            " block_15_expand (Conv2D)    (None, 7, 7, 960)            153600    ['block_14_add[0][0]']        \n",
            "                                                                                                  \n",
            " block_15_expand_BN (BatchN  (None, 7, 7, 960)            3840      ['block_15_expand[0][0]']     \n",
            " ormalization)                                                                                    \n",
            "                                                                                                  \n",
            " block_15_expand_relu (ReLU  (None, 7, 7, 960)            0         ['block_15_expand_BN[0][0]']  \n",
            " )                                                                                                \n",
            "                                                                                                  \n",
            " block_15_depthwise (Depthw  (None, 7, 7, 960)            8640      ['block_15_expand_relu[0][0]']\n",
            " iseConv2D)                                                                                       \n",
            "                                                                                                  \n",
            " block_15_depthwise_BN (Bat  (None, 7, 7, 960)            3840      ['block_15_depthwise[0][0]']  \n",
            " chNormalization)                                                                                 \n",
            "                                                                                                  \n",
            " block_15_depthwise_relu (R  (None, 7, 7, 960)            0         ['block_15_depthwise_BN[0][0]'\n",
            " eLU)                                                               ]                             \n",
            "                                                                                                  \n",
            " block_15_project (Conv2D)   (None, 7, 7, 160)            153600    ['block_15_depthwise_relu[0][0\n",
            "                                                                    ]']                           \n",
            "                                                                                                  \n",
            " block_15_project_BN (Batch  (None, 7, 7, 160)            640       ['block_15_project[0][0]']    \n",
            " Normalization)                                                                                   \n",
            "                                                                                                  \n",
            " block_15_add (Add)          (None, 7, 7, 160)            0         ['block_14_add[0][0]',        \n",
            "                                                                     'block_15_project_BN[0][0]'] \n",
            "                                                                                                  \n",
            " block_16_expand (Conv2D)    (None, 7, 7, 960)            153600    ['block_15_add[0][0]']        \n",
            "                                                                                                  \n",
            " block_16_expand_BN (BatchN  (None, 7, 7, 960)            3840      ['block_16_expand[0][0]']     \n",
            " ormalization)                                                                                    \n",
            "                                                                                                  \n",
            " block_16_expand_relu (ReLU  (None, 7, 7, 960)            0         ['block_16_expand_BN[0][0]']  \n",
            " )                                                                                                \n",
            "                                                                                                  \n",
            " block_16_depthwise (Depthw  (None, 7, 7, 960)            8640      ['block_16_expand_relu[0][0]']\n",
            " iseConv2D)                                                                                       \n",
            "                                                                                                  \n",
            " block_16_depthwise_BN (Bat  (None, 7, 7, 960)            3840      ['block_16_depthwise[0][0]']  \n",
            " chNormalization)                                                                                 \n",
            "                                                                                                  \n",
            " block_16_depthwise_relu (R  (None, 7, 7, 960)            0         ['block_16_depthwise_BN[0][0]'\n",
            " eLU)                                                               ]                             \n",
            "                                                                                                  \n",
            " block_16_project (Conv2D)   (None, 7, 7, 320)            307200    ['block_16_depthwise_relu[0][0\n",
            "                                                                    ]']                           \n",
            "                                                                                                  \n",
            " block_16_project_BN (Batch  (None, 7, 7, 320)            1280      ['block_16_project[0][0]']    \n",
            " Normalization)                                                                                   \n",
            "                                                                                                  \n",
            " Conv_1 (Conv2D)             (None, 7, 7, 1280)           409600    ['block_16_project_BN[0][0]'] \n",
            "                                                                                                  \n",
            " Conv_1_bn (BatchNormalizat  (None, 7, 7, 1280)           5120      ['Conv_1[0][0]']              \n",
            " ion)                                                                                             \n",
            "                                                                                                  \n",
            " out_relu (ReLU)             (None, 7, 7, 1280)           0         ['Conv_1_bn[0][0]']           \n",
            "                                                                                                  \n",
            "==================================================================================================\n",
            "Total params: 2257984 (8.61 MB)\n",
            "Trainable params: 0 (0.00 Byte)\n",
            "Non-trainable params: 2257984 (8.61 MB)\n",
            "__________________________________________________________________________________________________\n"
          ]
        }
      ]
    },
    {
      "cell_type": "code",
      "execution_count": 13,
      "metadata": {
        "colab": {
          "base_uri": "https://localhost:8080/"
        },
        "id": "RIGGnRudEL65",
        "outputId": "f3513825-173f-4855-abd5-c67d7d3d3b87"
      },
      "outputs": [
        {
          "output_type": "stream",
          "name": "stdout",
          "text": [
            "Model: \"sequential_1\"\n",
            "_________________________________________________________________\n",
            " Layer (type)                Output Shape              Param #   \n",
            "=================================================================\n",
            " sequential (Sequential)     (None, 224, 224, 3)       0         \n",
            "                                                                 \n",
            " mobilenetv2_1.00_224 (Func  (None, 7, 7, 1280)        2257984   \n",
            " tional)                                                         \n",
            "                                                                 \n",
            " flatten (Flatten)           (None, 62720)             0         \n",
            "                                                                 \n",
            " dense (Dense)               (None, 5)                 313605    \n",
            "                                                                 \n",
            "=================================================================\n",
            "Total params: 2571589 (9.81 MB)\n",
            "Trainable params: 313605 (1.20 MB)\n",
            "Non-trainable params: 2257984 (8.61 MB)\n",
            "_________________________________________________________________\n"
          ]
        }
      ],
      "source": [
        "pretrained_model_aug.summary()"
      ]
    },
    {
      "cell_type": "code",
      "execution_count": 14,
      "metadata": {
        "colab": {
          "base_uri": "https://localhost:8080/"
        },
        "id": "qxjsFxwNalWu",
        "outputId": "45c8cd2d-0e4b-4a10-97dc-ee9006e08461"
      },
      "outputs": [
        {
          "output_type": "stream",
          "name": "stdout",
          "text": [
            "Epoch 1/30\n",
            "92/92 [==============================] - 13s 89ms/step - loss: 2.8238 - accuracy: 0.7411 - val_loss: 1.4499 - val_accuracy: 0.8283\n",
            "Epoch 2/30\n",
            "92/92 [==============================] - 5s 52ms/step - loss: 2.2134 - accuracy: 0.8106 - val_loss: 3.5196 - val_accuracy: 0.7738\n",
            "Epoch 3/30\n",
            "92/92 [==============================] - 5s 52ms/step - loss: 1.8009 - accuracy: 0.8569 - val_loss: 2.2817 - val_accuracy: 0.8174\n",
            "Epoch 4/30\n",
            "92/92 [==============================] - 5s 58ms/step - loss: 1.5660 - accuracy: 0.8726 - val_loss: 2.2240 - val_accuracy: 0.8311\n",
            "Epoch 5/30\n",
            "92/92 [==============================] - 5s 54ms/step - loss: 1.3802 - accuracy: 0.8954 - val_loss: 2.6153 - val_accuracy: 0.8202\n",
            "Epoch 6/30\n",
            "92/92 [==============================] - 5s 56ms/step - loss: 1.3848 - accuracy: 0.8975 - val_loss: 2.6947 - val_accuracy: 0.8392\n"
          ]
        }
      ],
      "source": [
        "# Fit model with callbacks\n",
        "history = pretrained_model_aug.fit(\n",
        "    X_train,\n",
        "    y_train_encoded,\n",
        "    validation_data=(X_val, y_val_encoded),\n",
        "    epochs=30,\n",
        "    callbacks=[early_stopping]\n",
        ")"
      ]
    },
    {
      "cell_type": "markdown",
      "metadata": {
        "id": "AJWootYbnICl"
      },
      "source": [
        "## Results"
      ]
    },
    {
      "cell_type": "code",
      "execution_count": 15,
      "metadata": {
        "id": "bU-Cqi_3nlVS"
      },
      "outputs": [],
      "source": [
        "# Load history dict\n",
        "history_dict = history.history\n",
        "\n",
        "# Create a DataFrame from the history dictionary\n",
        "history_df = pd.DataFrame(history_dict)\n",
        "\n",
        "# Add an epoch column\n",
        "history_df['epoch'] = history_df.index + 1"
      ]
    },
    {
      "cell_type": "code",
      "execution_count": 16,
      "metadata": {
        "colab": {
          "base_uri": "https://localhost:8080/"
        },
        "id": "j9U_-FggAEoJ",
        "outputId": "2050b0cd-71d8-410d-cf16-49f0f2720139"
      },
      "outputs": [
        {
          "output_type": "stream",
          "name": "stdout",
          "text": [
            "12/12 [==============================] - 1s 41ms/step\n"
          ]
        }
      ],
      "source": [
        "y_pred = pretrained_model_aug.predict(X_test)\n",
        "\n",
        "# Convert probabilities to class labels\n",
        "y_pred_classes = np.argmax(y_pred, axis=1)"
      ]
    },
    {
      "cell_type": "code",
      "execution_count": 17,
      "metadata": {
        "colab": {
          "base_uri": "https://localhost:8080/"
        },
        "id": "Q_XM29XcAE0Q",
        "outputId": "4b674ee8-890a-43a0-e71c-9c80dd7947bd"
      },
      "outputs": [
        {
          "output_type": "stream",
          "name": "stdout",
          "text": [
            "Accuracy: 82.29%\n",
            "F1 Scores for each class:\n",
            "Class 0: 0.77\n",
            "Class 1: 0.79\n",
            "Class 2: 0.83\n",
            "Class 3: 0.85\n",
            "Class 4: 0.87\n",
            "Mean F1 Score: 0.8222\n"
          ]
        }
      ],
      "source": [
        "accuracy = accuracy_score(y_test, y_pred_classes)\n",
        "print(f'Accuracy: {accuracy * 100:.2f}%')\n",
        "\n",
        "# Compute F1 scores for each class\n",
        "f1_scores = f1_score(y_test, y_pred_classes, average=None)\n",
        "mean_f1_score = np.mean(f1_scores)\n",
        "\n",
        "# Print F1 scores\n",
        "print(\"F1 Scores for each class:\")\n",
        "for i, score in enumerate(f1_scores):\n",
        "    print(f\"Class {i}: {score:.2f}\")\n",
        "\n",
        "# Print mean F1 score\n",
        "print(f\"Mean F1 Score: {mean_f1_score:.4f}\")"
      ]
    },
    {
      "cell_type": "code",
      "execution_count": 18,
      "metadata": {
        "id": "LHkdzvrCozjx"
      },
      "outputs": [],
      "source": [
        "# Save the model to Google Drive\n",
        "# drive.mount('/content/gdrive')\n",
        "\n",
        "model_save_path = 'gdrive/My Drive/Colab Notebooks/flower_transfer_learning.keras'\n",
        "pretrained_model_aug.save(model_save_path)"
      ]
    },
    {
      "cell_type": "markdown",
      "metadata": {
        "id": "fbPB2m1xAQRT"
      },
      "source": [
        "# Train the NN unfreezing top layers"
      ]
    },
    {
      "cell_type": "code",
      "source": [
        "len(pretrained_layer.layers)"
      ],
      "metadata": {
        "colab": {
          "base_uri": "https://localhost:8080/"
        },
        "id": "c7_yl7BqI4lr",
        "outputId": "6292b08c-c5c9-475c-b687-40d4b81e05df"
      },
      "execution_count": 19,
      "outputs": [
        {
          "output_type": "execute_result",
          "data": {
            "text/plain": [
              "154"
            ]
          },
          "metadata": {},
          "execution_count": 19
        }
      ]
    },
    {
      "cell_type": "code",
      "execution_count": 20,
      "metadata": {
        "id": "ylNF_yMLyndy"
      },
      "outputs": [],
      "source": [
        "pretrained_layer.trainable = True\n",
        "\n",
        "# Fine-tune from this layer onwards\n",
        "fine_tuning = len(pretrained_layer.layers) - 5\n",
        "\n",
        "# Freeze all the layers before fine_tuned_ind\n",
        "for layer in pretrained_layer.layers[:fine_tuning]:\n",
        "    layer.trainable =  False"
      ]
    },
    {
      "cell_type": "code",
      "source": [
        "for layer in pretrained_layer.layers[-fine_tuning:]:\n",
        "  print(layer)"
      ],
      "metadata": {
        "colab": {
          "base_uri": "https://localhost:8080/"
        },
        "id": "YWj3diGAbiIo",
        "outputId": "b0415442-40df-407b-bfa3-9a7eeccf4ace"
      },
      "execution_count": 21,
      "outputs": [
        {
          "output_type": "stream",
          "name": "stdout",
          "text": [
            "<keras.src.layers.normalization.batch_normalization.BatchNormalization object at 0x7810ecf121d0>\n",
            "<keras.src.layers.activation.relu.ReLU object at 0x7810ecf13160>\n",
            "<keras.src.layers.convolutional.conv2d.Conv2D object at 0x7810ecf13640>\n",
            "<keras.src.layers.normalization.batch_normalization.BatchNormalization object at 0x7810ec074700>\n",
            "<keras.src.layers.convolutional.conv2d.Conv2D object at 0x7810ecf127a0>\n",
            "<keras.src.layers.normalization.batch_normalization.BatchNormalization object at 0x7810ec075c30>\n",
            "<keras.src.layers.activation.relu.ReLU object at 0x7810ec076c20>\n",
            "<keras.src.layers.reshaping.zero_padding2d.ZeroPadding2D object at 0x7810ec0770d0>\n",
            "<keras.src.layers.convolutional.depthwise_conv2d.DepthwiseConv2D object at 0x7810ec077f40>\n",
            "<keras.src.layers.normalization.batch_normalization.BatchNormalization object at 0x7810ec084d90>\n",
            "<keras.src.layers.activation.relu.ReLU object at 0x7810ec0774f0>\n",
            "<keras.src.layers.convolutional.conv2d.Conv2D object at 0x7810ec085ae0>\n",
            "<keras.src.layers.normalization.batch_normalization.BatchNormalization object at 0x7810ec086950>\n",
            "<keras.src.layers.convolutional.conv2d.Conv2D object at 0x7810ec086bc0>\n",
            "<keras.src.layers.normalization.batch_normalization.BatchNormalization object at 0x7810ec087f40>\n",
            "<keras.src.layers.activation.relu.ReLU object at 0x7810ec084040>\n",
            "<keras.src.layers.convolutional.depthwise_conv2d.DepthwiseConv2D object at 0x7810ec0a1300>\n",
            "<keras.src.layers.normalization.batch_normalization.BatchNormalization object at 0x7810ec0a2bc0>\n",
            "<keras.src.layers.activation.relu.ReLU object at 0x7810ec0a2f20>\n",
            "<keras.src.layers.convolutional.conv2d.Conv2D object at 0x7810ec0a3df0>\n",
            "<keras.src.layers.normalization.batch_normalization.BatchNormalization object at 0x7810ec0a33d0>\n",
            "<keras.src.layers.merging.add.Add object at 0x7810ec0a0310>\n",
            "<keras.src.layers.convolutional.conv2d.Conv2D object at 0x7810ec0bd300>\n",
            "<keras.src.layers.normalization.batch_normalization.BatchNormalization object at 0x7810ec0beda0>\n",
            "<keras.src.layers.activation.relu.ReLU object at 0x7810ec0bdba0>\n",
            "<keras.src.layers.reshaping.zero_padding2d.ZeroPadding2D object at 0x7810ec0bd600>\n",
            "<keras.src.layers.convolutional.depthwise_conv2d.DepthwiseConv2D object at 0x7810ec0dc5e0>\n",
            "<keras.src.layers.normalization.batch_normalization.BatchNormalization object at 0x7810ec0bea70>\n",
            "<keras.src.layers.activation.relu.ReLU object at 0x7810ec0bcdf0>\n",
            "<keras.src.layers.convolutional.conv2d.Conv2D object at 0x7810ec0bcaf0>\n",
            "<keras.src.layers.normalization.batch_normalization.BatchNormalization object at 0x7810ec084400>\n",
            "<keras.src.layers.convolutional.conv2d.Conv2D object at 0x7810ec0bc730>\n",
            "<keras.src.layers.normalization.batch_normalization.BatchNormalization object at 0x7810ecf11660>\n",
            "<keras.src.layers.activation.relu.ReLU object at 0x7810ec0bc820>\n",
            "<keras.src.layers.convolutional.depthwise_conv2d.DepthwiseConv2D object at 0x7811104e1f90>\n",
            "<keras.src.layers.normalization.batch_normalization.BatchNormalization object at 0x7810ec0de890>\n",
            "<keras.src.layers.activation.relu.ReLU object at 0x7810ec0dfa60>\n",
            "<keras.src.layers.convolutional.conv2d.Conv2D object at 0x7810ec0dfee0>\n",
            "<keras.src.layers.normalization.batch_normalization.BatchNormalization object at 0x7810ec0e0d00>\n",
            "<keras.src.layers.merging.add.Add object at 0x7810ec0df760>\n",
            "<keras.src.layers.convolutional.conv2d.Conv2D object at 0x7810ec0e1900>\n",
            "<keras.src.layers.normalization.batch_normalization.BatchNormalization object at 0x7810ec0e2c20>\n",
            "<keras.src.layers.activation.relu.ReLU object at 0x7810ec0e39d0>\n",
            "<keras.src.layers.convolutional.depthwise_conv2d.DepthwiseConv2D object at 0x7810ec0e3f70>\n",
            "<keras.src.layers.normalization.batch_normalization.BatchNormalization object at 0x7810ec0ece80>\n",
            "<keras.src.layers.activation.relu.ReLU object at 0x7810ec0edb40>\n",
            "<keras.src.layers.convolutional.conv2d.Conv2D object at 0x7810ec0ee0b0>\n",
            "<keras.src.layers.normalization.batch_normalization.BatchNormalization object at 0x7810ec0eee60>\n",
            "<keras.src.layers.merging.add.Add object at 0x7810ec0ef0d0>\n",
            "<keras.src.layers.convolutional.conv2d.Conv2D object at 0x7810ec0efca0>\n",
            "<keras.src.layers.normalization.batch_normalization.BatchNormalization object at 0x7810ec0fcc10>\n",
            "<keras.src.layers.activation.relu.ReLU object at 0x7810ec0ef1c0>\n",
            "<keras.src.layers.reshaping.zero_padding2d.ZeroPadding2D object at 0x7810ec0fdf60>\n",
            "<keras.src.layers.convolutional.depthwise_conv2d.DepthwiseConv2D object at 0x7810ec0fd330>\n",
            "<keras.src.layers.normalization.batch_normalization.BatchNormalization object at 0x7810ec0ff610>\n",
            "<keras.src.layers.activation.relu.ReLU object at 0x7810ec0ffac0>\n",
            "<keras.src.layers.convolutional.conv2d.Conv2D object at 0x7810ec0ffbb0>\n",
            "<keras.src.layers.normalization.batch_normalization.BatchNormalization object at 0x7810ec119570>\n",
            "<keras.src.layers.convolutional.conv2d.Conv2D object at 0x7810ec1197e0>\n",
            "<keras.src.layers.normalization.batch_normalization.BatchNormalization object at 0x7810ec11ab60>\n",
            "<keras.src.layers.activation.relu.ReLU object at 0x7810ec11ba60>\n",
            "<keras.src.layers.convolutional.depthwise_conv2d.DepthwiseConv2D object at 0x7810ec11bf10>\n",
            "<keras.src.layers.normalization.batch_normalization.BatchNormalization object at 0x7810ec131210>\n",
            "<keras.src.layers.activation.relu.ReLU object at 0x7810ec11be20>\n",
            "<keras.src.layers.convolutional.conv2d.Conv2D object at 0x7810ec11b460>\n",
            "<keras.src.layers.normalization.batch_normalization.BatchNormalization object at 0x7810ec0fdbd0>\n",
            "<keras.src.layers.merging.add.Add object at 0x7810ec0e3bb0>\n",
            "<keras.src.layers.convolutional.conv2d.Conv2D object at 0x7810ec0e2b90>\n",
            "<keras.src.layers.normalization.batch_normalization.BatchNormalization object at 0x7810ec0de6e0>\n",
            "<keras.src.layers.activation.relu.ReLU object at 0x7810ec076cb0>\n",
            "<keras.src.layers.convolutional.depthwise_conv2d.DepthwiseConv2D object at 0x7810ec0dc4f0>\n",
            "<keras.src.layers.normalization.batch_normalization.BatchNormalization object at 0x7810ec133520>\n",
            "<keras.src.layers.activation.relu.ReLU object at 0x7810ec133910>\n",
            "<keras.src.layers.convolutional.conv2d.Conv2D object at 0x7810ec1303a0>\n",
            "<keras.src.layers.normalization.batch_normalization.BatchNormalization object at 0x7810ec145960>\n",
            "<keras.src.layers.merging.add.Add object at 0x7810ec145bd0>\n",
            "<keras.src.layers.convolutional.conv2d.Conv2D object at 0x7810ec1467a0>\n",
            "<keras.src.layers.normalization.batch_normalization.BatchNormalization object at 0x7810ec147760>\n",
            "<keras.src.layers.activation.relu.ReLU object at 0x7810ec147af0>\n",
            "<keras.src.layers.convolutional.depthwise_conv2d.DepthwiseConv2D object at 0x7810ec147df0>\n",
            "<keras.src.layers.normalization.batch_normalization.BatchNormalization object at 0x7810ec1516f0>\n",
            "<keras.src.layers.activation.relu.ReLU object at 0x7810ec1528c0>\n",
            "<keras.src.layers.convolutional.conv2d.Conv2D object at 0x7810ec152d40>\n",
            "<keras.src.layers.normalization.batch_normalization.BatchNormalization object at 0x7810ec153af0>\n",
            "<keras.src.layers.merging.add.Add object at 0x7810ec153c70>\n",
            "<keras.src.layers.convolutional.conv2d.Conv2D object at 0x7810ec153f70>\n",
            "<keras.src.layers.normalization.batch_normalization.BatchNormalization object at 0x7810e050da80>\n",
            "<keras.src.layers.activation.relu.ReLU object at 0x7810e050e800>\n",
            "<keras.src.layers.convolutional.depthwise_conv2d.DepthwiseConv2D object at 0x7810e050ecb0>\n",
            "<keras.src.layers.normalization.batch_normalization.BatchNormalization object at 0x7810e050f850>\n",
            "<keras.src.layers.activation.relu.ReLU object at 0x7810e050fc40>\n",
            "<keras.src.layers.convolutional.conv2d.Conv2D object at 0x7810e0524df0>\n",
            "<keras.src.layers.normalization.batch_normalization.BatchNormalization object at 0x7810e0525c90>\n",
            "<keras.src.layers.convolutional.conv2d.Conv2D object at 0x7810e0525f00>\n",
            "<keras.src.layers.normalization.batch_normalization.BatchNormalization object at 0x7810e0527280>\n",
            "<keras.src.layers.activation.relu.ReLU object at 0x7810e0526bf0>\n",
            "<keras.src.layers.convolutional.depthwise_conv2d.DepthwiseConv2D object at 0x7810e0527070>\n",
            "<keras.src.layers.normalization.batch_normalization.BatchNormalization object at 0x7810e0541630>\n",
            "<keras.src.layers.activation.relu.ReLU object at 0x7810e0524f10>\n",
            "<keras.src.layers.convolutional.conv2d.Conv2D object at 0x7810e05269e0>\n",
            "<keras.src.layers.normalization.batch_normalization.BatchNormalization object at 0x7810e050ca60>\n",
            "<keras.src.layers.merging.add.Add object at 0x7810ec144eb0>\n",
            "<keras.src.layers.convolutional.conv2d.Conv2D object at 0x7810ec146710>\n",
            "<keras.src.layers.normalization.batch_normalization.BatchNormalization object at 0x7810ec11a800>\n",
            "<keras.src.layers.activation.relu.ReLU object at 0x7810ec1336a0>\n",
            "<keras.src.layers.convolutional.depthwise_conv2d.DepthwiseConv2D object at 0x7810e0543610>\n",
            "<keras.src.layers.normalization.batch_normalization.BatchNormalization object at 0x7810e0543940>\n",
            "<keras.src.layers.activation.relu.ReLU object at 0x7810e0541ba0>\n",
            "<keras.src.layers.convolutional.conv2d.Conv2D object at 0x7810e055cd60>\n",
            "<keras.src.layers.normalization.batch_normalization.BatchNormalization object at 0x7810e055e0e0>\n",
            "<keras.src.layers.merging.add.Add object at 0x7810e055e350>\n",
            "<keras.src.layers.convolutional.conv2d.Conv2D object at 0x7810e055d990>\n",
            "<keras.src.layers.normalization.batch_normalization.BatchNormalization object at 0x7810e055ffd0>\n",
            "<keras.src.layers.activation.relu.ReLU object at 0x7810e055fe50>\n",
            "<keras.src.layers.reshaping.zero_padding2d.ZeroPadding2D object at 0x7810e0568940>\n",
            "<keras.src.layers.convolutional.depthwise_conv2d.DepthwiseConv2D object at 0x7810e0569690>\n",
            "<keras.src.layers.normalization.batch_normalization.BatchNormalization object at 0x7810e056a4d0>\n",
            "<keras.src.layers.activation.relu.ReLU object at 0x7810e056ac50>\n",
            "<keras.src.layers.convolutional.conv2d.Conv2D object at 0x7810e056b0d0>\n",
            "<keras.src.layers.normalization.batch_normalization.BatchNormalization object at 0x7810e056a140>\n",
            "<keras.src.layers.convolutional.conv2d.Conv2D object at 0x7810e0568c10>\n",
            "<keras.src.layers.normalization.batch_normalization.BatchNormalization object at 0x7810e057caf0>\n",
            "<keras.src.layers.activation.relu.ReLU object at 0x7810e057e680>\n",
            "<keras.src.layers.convolutional.depthwise_conv2d.DepthwiseConv2D object at 0x7810e057c250>\n",
            "<keras.src.layers.normalization.batch_normalization.BatchNormalization object at 0x7810e057f670>\n",
            "<keras.src.layers.activation.relu.ReLU object at 0x7810e057d390>\n",
            "<keras.src.layers.convolutional.conv2d.Conv2D object at 0x7810e057ca30>\n",
            "<keras.src.layers.normalization.batch_normalization.BatchNormalization object at 0x7810e0590850>\n",
            "<keras.src.layers.merging.add.Add object at 0x7810e057e8f0>\n",
            "<keras.src.layers.convolutional.conv2d.Conv2D object at 0x7810e0592500>\n",
            "<keras.src.layers.normalization.batch_normalization.BatchNormalization object at 0x7810e0593970>\n",
            "<keras.src.layers.activation.relu.ReLU object at 0x7810e0592e60>\n",
            "<keras.src.layers.convolutional.depthwise_conv2d.DepthwiseConv2D object at 0x7810e0591120>\n",
            "<keras.src.layers.normalization.batch_normalization.BatchNormalization object at 0x7810e0590700>\n",
            "<keras.src.layers.activation.relu.ReLU object at 0x7810e0593c40>\n",
            "<keras.src.layers.convolutional.conv2d.Conv2D object at 0x7810e057e710>\n",
            "<keras.src.layers.normalization.batch_normalization.BatchNormalization object at 0x7810ec0dc520>\n",
            "<keras.src.layers.merging.add.Add object at 0x7810ec147c70>\n",
            "<keras.src.layers.convolutional.conv2d.Conv2D object at 0x7810ec1508b0>\n",
            "<keras.src.layers.normalization.batch_normalization.BatchNormalization object at 0x7810e057e800>\n",
            "<keras.src.layers.activation.relu.ReLU object at 0x7810e055f760>\n",
            "<keras.src.layers.convolutional.depthwise_conv2d.DepthwiseConv2D object at 0x7810e05ae020>\n",
            "<keras.src.layers.normalization.batch_normalization.BatchNormalization object at 0x7810e05afca0>\n",
            "<keras.src.layers.activation.relu.ReLU object at 0x7810e05af310>\n",
            "<keras.src.layers.convolutional.conv2d.Conv2D object at 0x7810e05aec20>\n",
            "<keras.src.layers.normalization.batch_normalization.BatchNormalization object at 0x7810e05afaf0>\n",
            "<keras.src.layers.convolutional.conv2d.Conv2D object at 0x7810e05aed10>\n",
            "<keras.src.layers.normalization.batch_normalization.BatchNormalization object at 0x7810e05adb10>\n",
            "<keras.src.layers.activation.relu.ReLU object at 0x7810e05ae8f0>\n"
          ]
        }
      ]
    },
    {
      "cell_type": "code",
      "execution_count": 22,
      "metadata": {
        "colab": {
          "base_uri": "https://localhost:8080/"
        },
        "id": "fdojEFK8pBCB",
        "outputId": "f2275a30-6099-4353-9b9b-a737cf5765e4"
      },
      "outputs": [
        {
          "output_type": "stream",
          "name": "stdout",
          "text": [
            "Epoch 1/30\n",
            "92/92 [==============================] - 12s 71ms/step - loss: 1.2715 - accuracy: 0.8484 - val_loss: 3.5381 - val_accuracy: 0.7520 - lr: 1.0000e-04\n",
            "Epoch 2/30\n",
            "92/92 [==============================] - 5s 58ms/step - loss: 0.7637 - accuracy: 0.8845 - val_loss: 5.5192 - val_accuracy: 0.7030 - lr: 1.0000e-04\n",
            "Epoch 3/30\n",
            "92/92 [==============================] - 5s 53ms/step - loss: 0.5703 - accuracy: 0.9026 - val_loss: 6.1311 - val_accuracy: 0.7057 - lr: 1.0000e-04\n",
            "Epoch 4/30\n",
            "91/92 [============================>.] - ETA: 0s - loss: 0.4513 - accuracy: 0.9056\n",
            "Epoch 4: ReduceLROnPlateau reducing learning rate to 6.999999823165126e-05.\n",
            "92/92 [==============================] - 6s 64ms/step - loss: 0.4505 - accuracy: 0.9057 - val_loss: 4.9365 - val_accuracy: 0.7193 - lr: 1.0000e-04\n",
            "Epoch 5/30\n",
            "92/92 [==============================] - 6s 67ms/step - loss: 0.2657 - accuracy: 0.9312 - val_loss: 4.0062 - val_accuracy: 0.7411 - lr: 7.0000e-05\n",
            "Epoch 6/30\n",
            "92/92 [==============================] - 5s 54ms/step - loss: 0.3099 - accuracy: 0.9292 - val_loss: 2.7930 - val_accuracy: 0.7875 - lr: 7.0000e-05\n",
            "Epoch 7/30\n",
            "92/92 [==============================] - 6s 60ms/step - loss: 0.1897 - accuracy: 0.9452 - val_loss: 1.9815 - val_accuracy: 0.8392 - lr: 7.0000e-05\n",
            "Epoch 8/30\n",
            "92/92 [==============================] - 5s 59ms/step - loss: 0.2121 - accuracy: 0.9435 - val_loss: 1.9496 - val_accuracy: 0.8283 - lr: 7.0000e-05\n",
            "Epoch 9/30\n",
            "92/92 [==============================] - 5s 54ms/step - loss: 0.1887 - accuracy: 0.9496 - val_loss: 1.4257 - val_accuracy: 0.8638 - lr: 7.0000e-05\n",
            "Epoch 10/30\n",
            "92/92 [==============================] - 5s 57ms/step - loss: 0.1482 - accuracy: 0.9557 - val_loss: 1.3436 - val_accuracy: 0.8556 - lr: 7.0000e-05\n",
            "Epoch 11/30\n",
            "92/92 [==============================] - 5s 57ms/step - loss: 0.1707 - accuracy: 0.9516 - val_loss: 1.2629 - val_accuracy: 0.8638 - lr: 7.0000e-05\n",
            "Epoch 12/30\n",
            "92/92 [==============================] - 5s 54ms/step - loss: 0.1416 - accuracy: 0.9557 - val_loss: 1.1415 - val_accuracy: 0.8719 - lr: 7.0000e-05\n",
            "Epoch 13/30\n",
            "92/92 [==============================] - 6s 61ms/step - loss: 0.1042 - accuracy: 0.9656 - val_loss: 1.0355 - val_accuracy: 0.8801 - lr: 7.0000e-05\n",
            "Epoch 14/30\n",
            "92/92 [==============================] - 5s 55ms/step - loss: 0.0920 - accuracy: 0.9697 - val_loss: 1.0753 - val_accuracy: 0.8747 - lr: 7.0000e-05\n",
            "Epoch 15/30\n",
            "92/92 [==============================] - 5s 57ms/step - loss: 0.1132 - accuracy: 0.9625 - val_loss: 1.0143 - val_accuracy: 0.8774 - lr: 7.0000e-05\n",
            "Epoch 16/30\n",
            "92/92 [==============================] - 5s 59ms/step - loss: 0.0934 - accuracy: 0.9704 - val_loss: 0.9560 - val_accuracy: 0.8856 - lr: 7.0000e-05\n",
            "Epoch 17/30\n",
            "92/92 [==============================] - 5s 56ms/step - loss: 0.1486 - accuracy: 0.9608 - val_loss: 0.9329 - val_accuracy: 0.8801 - lr: 7.0000e-05\n",
            "Epoch 18/30\n",
            "92/92 [==============================] - 5s 58ms/step - loss: 0.0980 - accuracy: 0.9707 - val_loss: 0.8895 - val_accuracy: 0.8883 - lr: 7.0000e-05\n",
            "Epoch 19/30\n",
            "92/92 [==============================] - 5s 56ms/step - loss: 0.0976 - accuracy: 0.9724 - val_loss: 0.9879 - val_accuracy: 0.8665 - lr: 7.0000e-05\n",
            "Epoch 20/30\n",
            "92/92 [==============================] - 5s 53ms/step - loss: 0.1151 - accuracy: 0.9673 - val_loss: 0.9151 - val_accuracy: 0.8828 - lr: 7.0000e-05\n",
            "Epoch 21/30\n",
            "91/92 [============================>.] - ETA: 0s - loss: 0.1005 - accuracy: 0.9681\n",
            "Epoch 21: ReduceLROnPlateau reducing learning rate to 4.899999621557071e-05.\n",
            "92/92 [==============================] - 5s 59ms/step - loss: 0.0997 - accuracy: 0.9683 - val_loss: 0.8852 - val_accuracy: 0.8828 - lr: 7.0000e-05\n",
            "Epoch 22/30\n",
            "92/92 [==============================] - 5s 54ms/step - loss: 0.0775 - accuracy: 0.9728 - val_loss: 0.8156 - val_accuracy: 0.8910 - lr: 4.9000e-05\n",
            "Epoch 23/30\n",
            "92/92 [==============================] - 5s 57ms/step - loss: 0.0725 - accuracy: 0.9768 - val_loss: 0.8149 - val_accuracy: 0.8910 - lr: 4.9000e-05\n",
            "Epoch 24/30\n",
            "92/92 [==============================] - 5s 59ms/step - loss: 0.0532 - accuracy: 0.9826 - val_loss: 0.7988 - val_accuracy: 0.8828 - lr: 4.9000e-05\n",
            "Epoch 25/30\n",
            "92/92 [==============================] - ETA: 0s - loss: 0.0546 - accuracy: 0.9816\n",
            "Epoch 25: ReduceLROnPlateau reducing learning rate to 3.4299996332265434e-05.\n",
            "92/92 [==============================] - 5s 54ms/step - loss: 0.0546 - accuracy: 0.9816 - val_loss: 0.7907 - val_accuracy: 0.8883 - lr: 4.9000e-05\n",
            "Epoch 26/30\n",
            "92/92 [==============================] - 5s 59ms/step - loss: 0.0508 - accuracy: 0.9826 - val_loss: 0.7397 - val_accuracy: 0.8883 - lr: 3.4300e-05\n",
            "Epoch 27/30\n",
            "92/92 [==============================] - 5s 54ms/step - loss: 0.0444 - accuracy: 0.9840 - val_loss: 0.7853 - val_accuracy: 0.8910 - lr: 3.4300e-05\n",
            "Epoch 28/30\n",
            "91/92 [============================>.] - ETA: 0s - loss: 0.0447 - accuracy: 0.9852\n",
            "Epoch 28: ReduceLROnPlateau reducing learning rate to 2.400999692326877e-05.\n",
            "92/92 [==============================] - 5s 54ms/step - loss: 0.0444 - accuracy: 0.9854 - val_loss: 0.7335 - val_accuracy: 0.8883 - lr: 3.4300e-05\n",
            "Epoch 29/30\n",
            "92/92 [==============================] - 5s 58ms/step - loss: 0.0396 - accuracy: 0.9871 - val_loss: 0.7385 - val_accuracy: 0.8801 - lr: 2.4010e-05\n",
            "Epoch 30/30\n",
            "92/92 [==============================] - 5s 55ms/step - loss: 0.0415 - accuracy: 0.9854 - val_loss: 0.7580 - val_accuracy: 0.8774 - lr: 2.4010e-05\n"
          ]
        }
      ],
      "source": [
        "# set a learning rate annealer\n",
        "reduce_lr = ReduceLROnPlateau(monitor='val_accuracy',\n",
        "                                            patience=3,\n",
        "                                            verbose=1,\n",
        "                                            factor=0.7,\n",
        "                                            min_lr=0.00001)\n",
        "\n",
        "# Recompile the model with a lower learning rate for fine-tuning\n",
        "pretrained_model_aug.compile(\n",
        "    optimizer=Adam(learning_rate=1e-4),  # 1/100 original LR\n",
        "    loss='categorical_crossentropy',\n",
        "    metrics=['accuracy']\n",
        ")\n",
        "\n",
        "# Continue training (fine-tuning)\n",
        "history_finetune = pretrained_model_aug.fit(\n",
        "    X_train,\n",
        "    y_train_encoded,\n",
        "    validation_data=(X_val, y_val_encoded),\n",
        "    epochs=30,\n",
        "    callbacks=[early_stopping, reduce_lr]\n",
        ")"
      ]
    },
    {
      "cell_type": "markdown",
      "metadata": {
        "id": "APHnNpRbnaHz"
      },
      "source": [
        "## Results"
      ]
    },
    {
      "cell_type": "code",
      "execution_count": 23,
      "metadata": {
        "id": "IHjiymBmp6g1"
      },
      "outputs": [],
      "source": [
        "# Assuming you have the history dictionary loaded\n",
        "history_dict_fine = history_finetune.history\n",
        "\n",
        "# Create a DataFrame from the history dictionary\n",
        "history_df_fine = pd.DataFrame(history_dict_fine)\n",
        "\n",
        "# Add an epoch column\n",
        "history_df_fine['epoch'] = history_df_fine.index + 1"
      ]
    },
    {
      "cell_type": "code",
      "execution_count": 24,
      "metadata": {
        "colab": {
          "base_uri": "https://localhost:8080/"
        },
        "id": "P7Nhtpa9q9Cb",
        "outputId": "5590a5c2-117f-4f5f-c345-de3fa2c69d2d"
      },
      "outputs": [
        {
          "output_type": "stream",
          "name": "stdout",
          "text": [
            "12/12 [==============================] - 2s 45ms/step\n"
          ]
        }
      ],
      "source": [
        "y_pred1 = pretrained_model_aug.predict(X_test)\n",
        "\n",
        "# Convert probabilities to class labels\n",
        "y_pred_classes1 = np.argmax(y_pred1, axis=1)"
      ]
    },
    {
      "cell_type": "code",
      "execution_count": 25,
      "metadata": {
        "colab": {
          "base_uri": "https://localhost:8080/"
        },
        "id": "3QK5npb-ASIW",
        "outputId": "20909e82-d6d4-42e4-f9b7-1c9cd4a7ba81"
      },
      "outputs": [
        {
          "output_type": "stream",
          "name": "stdout",
          "text": [
            "Accuracy: 92.10%\n",
            "F1 Scores for each class:\n",
            "Class 0: 0.92\n",
            "Class 1: 0.90\n",
            "Class 2: 0.89\n",
            "Class 3: 0.93\n",
            "Class 4: 0.96\n",
            "Mean F1 Score: 0.9197\n"
          ]
        }
      ],
      "source": [
        "accuracy1 = accuracy_score(y_test, y_pred_classes1)\n",
        "print(f'Accuracy: {accuracy1 * 100:.2f}%')\n",
        "\n",
        "# Compute F1 scores for each class\n",
        "f1_scores1 = f1_score(y_test, y_pred_classes1, average=None)\n",
        "mean_f1_score1 = np.mean(f1_scores1)\n",
        "\n",
        "# Print F1 scores\n",
        "print(\"F1 Scores for each class:\")\n",
        "for i, score in enumerate(f1_scores1):\n",
        "    print(f\"Class {i}: {score:.2f}\")\n",
        "\n",
        "# Print mean F1 score\n",
        "print(f\"Mean F1 Score: {mean_f1_score1:.4f}\")"
      ]
    },
    {
      "cell_type": "markdown",
      "metadata": {
        "id": "yAeMbLiindKa"
      },
      "source": [
        "# Make final plot of results"
      ]
    },
    {
      "cell_type": "code",
      "execution_count": 26,
      "metadata": {
        "id": "dM-RsBKrn2rs"
      },
      "outputs": [],
      "source": [
        "epochs_0 = len(history.history['accuracy'])-patience_freeze+1\n",
        "\n",
        "def plot_history_fined(history, history_finetune, initial_epochs=epochs_0, loss_max=1):\n",
        "    \"\"\"\n",
        "    Check loss and accuracy evolution after fine tuning\n",
        "    \"\"\"\n",
        "\n",
        "    acc = history.history['accuracy'][:epochs_0]\n",
        "    acc += history_finetune.history['accuracy']\n",
        "    val_acc = history.history['val_accuracy'][:epochs_0]\n",
        "    val_acc += history_finetune.history['val_accuracy']\n",
        "\n",
        "    loss = history.history['loss'][:epochs_0]\n",
        "    loss += history_finetune.history['loss']\n",
        "    val_loss = history.history['val_loss'][:epochs_0]\n",
        "    val_loss += history_finetune.history['val_loss']\n",
        "\n",
        "\n",
        "    fig, (ax1, ax2) = plt.subplots(1,2,figsize=(14, 6))\n",
        "    ax1.plot(acc, label='Training', marker='o', ls='-')\n",
        "    ax1.plot(val_acc, label='Validation', marker='o', ls='-')\n",
        "    ax1.plot([initial_epochs-1,initial_epochs-1],\n",
        "              plt.ylim(), label='Fine-tuning', ls='--')\n",
        "    ax1.legend(loc='lower right')\n",
        "    ax1.set(ylabel='Accuracy', xlabel='epochs', title='Training - Validation Accuracy',\n",
        "            ylim=([0.6,1.005]))\n",
        "    ax1.grid(True, alpha=0.4)\n",
        "\n",
        "    ax2.plot(loss, label='Training', marker='o', ls='-')\n",
        "    ax2.plot(val_loss, label='Validation', marker='o', ls='-')\n",
        "    ax2.plot([initial_epochs-1,initial_epochs-1],\n",
        "             [-0.5,7] , label='Fine-tuning', ls='--')\n",
        "    ax2.legend(loc='upper right')\n",
        "    ax2.set(ylabel='Loss (cross entropy)', xlabel='epochs',\n",
        "           title='Training - Validation Loss', ylim=([-0.5, 7])) #\n",
        "    ax2.grid(True, alpha=0.4)\n",
        "\n",
        "    #plt.savefig(\"finetuned_result.png\")\n",
        "    #files.download(\"finetuned_result.png\")\n",
        "    plt.show()"
      ]
    },
    {
      "cell_type": "code",
      "execution_count": 27,
      "metadata": {
        "colab": {
          "base_uri": "https://localhost:8080/",
          "height": 564
        },
        "id": "yOynXBWipoU6",
        "outputId": "10a5a395-6610-4dec-af61-64c3a033d13b"
      },
      "outputs": [
        {
          "output_type": "display_data",
          "data": {
            "text/plain": [
              "<Figure size 1400x600 with 2 Axes>"
            ],
            "image/png": "[encoded data removed]"
          },
          "metadata": {}
        }
      ],
      "source": [
        "plot_history_fined(history, history_finetune)"
      ]
    },
    {
      "cell_type": "code",
      "source": [],
      "metadata": {
        "id": "YiQyvKptHU7e"
      },
      "execution_count": 27,
      "outputs": []
    }
  ],
  "metadata": {
    "accelerator": "GPU",
    "colab": {
      "gpuType": "T4",
      "provenance": []
    },
    "kernelspec": {
      "display_name": "Python 3",
      "name": "python3"
    },
    "language_info": {
      "name": "python"
    }
  },
  "nbformat": 4,
  "nbformat_minor": 0
}