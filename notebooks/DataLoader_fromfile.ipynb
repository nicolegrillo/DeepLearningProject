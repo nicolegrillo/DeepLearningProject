{
  "nbformat": 4,
  "nbformat_minor": 0,
  "metadata": {
    "colab": {
      "provenance": []
    },
    "kernelspec": {
      "name": "python3",
      "display_name": "Python 3"
    },
    "language_info": {
      "name": "python"
    }
  },
  "cells": [
    {
      "cell_type": "markdown",
      "source": [
        "# $\\textbf{Data Loading}$\n",
        "\n",
        "Very quick example on how to load data."
      ],
      "metadata": {
        "id": "JEZPG3VjSipb"
      }
    },
    {
      "cell_type": "code",
      "source": [
        "from google.colab import drive\n",
        "from shutil import copyfile\n",
        "import pandas as pd\n",
        "import re\n",
        "from matplotlib import pyplot as plt\n",
        "import numpy as np\n",
        "import zipfile\n",
        "import random as python_random\n",
        "import os\n",
        "import zipfile\n",
        "from scipy.io import loadmat\n",
        "from sklearn.preprocessing import LabelEncoder\n",
        "import io\n",
        "import csv\n",
        "from sklearn.model_selection import train_test_split"
      ],
      "metadata": {
        "id": "j7JvD_BMSwrq"
      },
      "execution_count": 2,
      "outputs": []
    },
    {
      "cell_type": "code",
      "execution_count": 6,
      "metadata": {
        "colab": {
          "base_uri": "https://localhost:8080/"
        },
        "id": "84Yp3L-3SfuL",
        "outputId": "08086ccd-9a51-4072-f097-b0f6095d7c04"
      },
      "outputs": [
        {
          "output_type": "stream",
          "name": "stdout",
          "text": [
            "Drive already mounted at /content/gdrive; to attempt to forcibly remount, call drive.mount(\"/content/gdrive\", force_remount=True).\n"
          ]
        }
      ],
      "source": [
        "drive.mount('/content/gdrive')\n",
        "copyfile('gdrive/My Drive/DataLoading_DL/XTrain-set.npy', 'XTrain-set.npy')\n",
        "copyfile('gdrive/My Drive/DataLoading_DL/XTest-set.npy', 'XTest-set.npy')\n",
        "copyfile('gdrive/My Drive/DataLoading_DL/XVal-set.npy', 'XVal-set.npy');\n",
        "\n",
        "copyfile('gdrive/My Drive/DataLoading_DL/YTrain-set.npy', 'YTrain-set.npy')\n",
        "copyfile('gdrive/My Drive/DataLoading_DL/YTest-set.npy', 'YTest-set.npy')\n",
        "copyfile('gdrive/My Drive/DataLoading_DL/YVal-set.npy', 'YVal-set.npy');"
      ]
    },
    {
      "cell_type": "code",
      "source": [
        "# Load only Train dataset:\n",
        "\n",
        "x_train = np.load('XTrain-set.npy')\n",
        "y_train = np.load('YTrain-set.npy')\n",
        "print(x_train.shape)\n",
        "print(y_train.shape)"
      ],
      "metadata": {
        "colab": {
          "base_uri": "https://localhost:8080/"
        },
        "id": "XpltBX9AS6Cv",
        "outputId": "23ae7026-8a7c-4869-acc4-1f9cb0eaa200"
      },
      "execution_count": 7,
      "outputs": [
        {
          "output_type": "stream",
          "name": "stdout",
          "text": [
            "(6811, 9000)\n",
            "(6811, 1)\n"
          ]
        }
      ]
    }
  ]
}